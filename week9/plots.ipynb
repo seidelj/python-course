{
 "cells": [
  {
   "cell_type": "code",
   "execution_count": 1,
   "id": "64f0b671-8395-417b-aab5-2e48caf6abb4",
   "metadata": {},
   "outputs": [],
   "source": [
    "import os\n",
    "import pandas as pd\n",
    "import numpy as np\n",
    "import matplotlib.pyplot as plt\n",
    "%matplotlib inline"
   ]
  },
  {
   "cell_type": "markdown",
   "id": "eb42e338-e312-41b6-acd4-45e2d6a76530",
   "metadata": {},
   "source": [
    "We are going to use [matplotlib](https://matplotlib.org/stable/index.html)\n",
    "\n",
    "To make plots using Matplotlib, you must first enable IPython's matplotlib mode.\n",
    "\n",
    "To do this, run the %matplotlib magic command to enable plotting in the current Notebook.\n",
    "\n",
    "This magic takes an optional argument that specifies which Matplotlib backend should be used. Most of the time, in the Notebook, you will want to use the inline backend, which will embed plots inside the Notebook:"
   ]
  },
  {
   "cell_type": "markdown",
   "id": "2c122480-e1f9-4b4c-a139-f5ca0334d089",
   "metadata": {},
   "source": [
    "## Read csv from URL"
   ]
  },
  {
   "cell_type": "code",
   "execution_count": 2,
   "id": "c3d8e989-349c-440c-9a4d-4281a35ddfee",
   "metadata": {},
   "outputs": [
    {
     "data": {
      "text/html": [
       "<div>\n",
       "<style scoped>\n",
       "    .dataframe tbody tr th:only-of-type {\n",
       "        vertical-align: middle;\n",
       "    }\n",
       "\n",
       "    .dataframe tbody tr th {\n",
       "        vertical-align: top;\n",
       "    }\n",
       "\n",
       "    .dataframe thead th {\n",
       "        text-align: right;\n",
       "    }\n",
       "</style>\n",
       "<table border=\"1\" class=\"dataframe\">\n",
       "  <thead>\n",
       "    <tr style=\"text-align: right;\">\n",
       "      <th></th>\n",
       "      <th>period</th>\n",
       "      <th>price</th>\n",
       "      <th>session</th>\n",
       "      <th>market</th>\n",
       "      <th>fv</th>\n",
       "      <th>rd</th>\n",
       "    </tr>\n",
       "  </thead>\n",
       "  <tbody>\n",
       "    <tr>\n",
       "      <th>0</th>\n",
       "      <td>1</td>\n",
       "      <td>214</td>\n",
       "      <td>online1</td>\n",
       "      <td>1</td>\n",
       "      <td>240</td>\n",
       "      <td>0.564394</td>\n",
       "    </tr>\n",
       "    <tr>\n",
       "      <th>1</th>\n",
       "      <td>2</td>\n",
       "      <td>164</td>\n",
       "      <td>online1</td>\n",
       "      <td>1</td>\n",
       "      <td>216</td>\n",
       "      <td>0.564394</td>\n",
       "    </tr>\n",
       "    <tr>\n",
       "      <th>2</th>\n",
       "      <td>3</td>\n",
       "      <td>161</td>\n",
       "      <td>online1</td>\n",
       "      <td>1</td>\n",
       "      <td>192</td>\n",
       "      <td>0.564394</td>\n",
       "    </tr>\n",
       "    <tr>\n",
       "      <th>3</th>\n",
       "      <td>4</td>\n",
       "      <td>187</td>\n",
       "      <td>online1</td>\n",
       "      <td>1</td>\n",
       "      <td>168</td>\n",
       "      <td>0.564394</td>\n",
       "    </tr>\n",
       "    <tr>\n",
       "      <th>4</th>\n",
       "      <td>5</td>\n",
       "      <td>289</td>\n",
       "      <td>online1</td>\n",
       "      <td>1</td>\n",
       "      <td>144</td>\n",
       "      <td>0.564394</td>\n",
       "    </tr>\n",
       "  </tbody>\n",
       "</table>\n",
       "</div>"
      ],
      "text/plain": [
       "   period  price  session  market   fv        rd\n",
       "0       1    214  online1       1  240  0.564394\n",
       "1       2    164  online1       1  216  0.564394\n",
       "2       3    161  online1       1  192  0.564394\n",
       "3       4    187  online1       1  168  0.564394\n",
       "4       5    289  online1       1  144  0.564394"
      ]
     },
     "execution_count": 2,
     "metadata": {},
     "output_type": "execute_result"
    }
   ],
   "source": [
    "\n",
    "df = pd.read_csv(os.path.join(os.getcwd(), 'prices.csv'))\n",
    "df.head()"
   ]
  },
  {
   "cell_type": "markdown",
   "id": "25a71aab-06a5-47b7-9d81-fe1948b8337e",
   "metadata": {},
   "source": [
    "## Plots"
   ]
  },
  {
   "cell_type": "code",
   "execution_count": 3,
   "id": "360d352b-18fa-4e73-9ec3-07d6eec6b29e",
   "metadata": {},
   "outputs": [],
   "source": [
    "%matplotlib inline\n",
    "import matplotlib.pyplot as plt"
   ]
  },
  {
   "cell_type": "markdown",
   "id": "859325ca-5d89-4e3b-ab8a-173414370761",
   "metadata": {},
   "source": [
    "### Select a subset of the data"
   ]
  },
  {
   "cell_type": "code",
   "execution_count": 4,
   "id": "e43a9573-6032-43cd-9b18-fdabfef4e15d",
   "metadata": {},
   "outputs": [],
   "source": [
    "online1 = df[(df['session'] == 'online1') & (df['market'] == 1)]"
   ]
  },
  {
   "cell_type": "code",
   "execution_count": 5,
   "id": "112b5478-6dab-4c80-8520-f5deb4098f0f",
   "metadata": {},
   "outputs": [
    {
     "data": {
      "text/html": [
       "<div>\n",
       "<style scoped>\n",
       "    .dataframe tbody tr th:only-of-type {\n",
       "        vertical-align: middle;\n",
       "    }\n",
       "\n",
       "    .dataframe tbody tr th {\n",
       "        vertical-align: top;\n",
       "    }\n",
       "\n",
       "    .dataframe thead th {\n",
       "        text-align: right;\n",
       "    }\n",
       "</style>\n",
       "<table border=\"1\" class=\"dataframe\">\n",
       "  <thead>\n",
       "    <tr style=\"text-align: right;\">\n",
       "      <th></th>\n",
       "      <th>period</th>\n",
       "      <th>price</th>\n",
       "      <th>session</th>\n",
       "      <th>market</th>\n",
       "      <th>fv</th>\n",
       "      <th>rd</th>\n",
       "    </tr>\n",
       "  </thead>\n",
       "  <tbody>\n",
       "    <tr>\n",
       "      <th>0</th>\n",
       "      <td>1</td>\n",
       "      <td>214</td>\n",
       "      <td>online1</td>\n",
       "      <td>1</td>\n",
       "      <td>240</td>\n",
       "      <td>0.564394</td>\n",
       "    </tr>\n",
       "    <tr>\n",
       "      <th>1</th>\n",
       "      <td>2</td>\n",
       "      <td>164</td>\n",
       "      <td>online1</td>\n",
       "      <td>1</td>\n",
       "      <td>216</td>\n",
       "      <td>0.564394</td>\n",
       "    </tr>\n",
       "    <tr>\n",
       "      <th>2</th>\n",
       "      <td>3</td>\n",
       "      <td>161</td>\n",
       "      <td>online1</td>\n",
       "      <td>1</td>\n",
       "      <td>192</td>\n",
       "      <td>0.564394</td>\n",
       "    </tr>\n",
       "    <tr>\n",
       "      <th>3</th>\n",
       "      <td>4</td>\n",
       "      <td>187</td>\n",
       "      <td>online1</td>\n",
       "      <td>1</td>\n",
       "      <td>168</td>\n",
       "      <td>0.564394</td>\n",
       "    </tr>\n",
       "    <tr>\n",
       "      <th>4</th>\n",
       "      <td>5</td>\n",
       "      <td>289</td>\n",
       "      <td>online1</td>\n",
       "      <td>1</td>\n",
       "      <td>144</td>\n",
       "      <td>0.564394</td>\n",
       "    </tr>\n",
       "    <tr>\n",
       "      <th>5</th>\n",
       "      <td>6</td>\n",
       "      <td>331</td>\n",
       "      <td>online1</td>\n",
       "      <td>1</td>\n",
       "      <td>120</td>\n",
       "      <td>0.564394</td>\n",
       "    </tr>\n",
       "    <tr>\n",
       "      <th>6</th>\n",
       "      <td>7</td>\n",
       "      <td>379</td>\n",
       "      <td>online1</td>\n",
       "      <td>1</td>\n",
       "      <td>96</td>\n",
       "      <td>0.564394</td>\n",
       "    </tr>\n",
       "    <tr>\n",
       "      <th>7</th>\n",
       "      <td>8</td>\n",
       "      <td>213</td>\n",
       "      <td>online1</td>\n",
       "      <td>1</td>\n",
       "      <td>72</td>\n",
       "      <td>0.564394</td>\n",
       "    </tr>\n",
       "    <tr>\n",
       "      <th>8</th>\n",
       "      <td>9</td>\n",
       "      <td>59</td>\n",
       "      <td>online1</td>\n",
       "      <td>1</td>\n",
       "      <td>48</td>\n",
       "      <td>0.564394</td>\n",
       "    </tr>\n",
       "    <tr>\n",
       "      <th>9</th>\n",
       "      <td>10</td>\n",
       "      <td>68</td>\n",
       "      <td>online1</td>\n",
       "      <td>1</td>\n",
       "      <td>24</td>\n",
       "      <td>0.564394</td>\n",
       "    </tr>\n",
       "  </tbody>\n",
       "</table>\n",
       "</div>"
      ],
      "text/plain": [
       "   period  price  session  market   fv        rd\n",
       "0       1    214  online1       1  240  0.564394\n",
       "1       2    164  online1       1  216  0.564394\n",
       "2       3    161  online1       1  192  0.564394\n",
       "3       4    187  online1       1  168  0.564394\n",
       "4       5    289  online1       1  144  0.564394\n",
       "5       6    331  online1       1  120  0.564394\n",
       "6       7    379  online1       1   96  0.564394\n",
       "7       8    213  online1       1   72  0.564394\n",
       "8       9     59  online1       1   48  0.564394\n",
       "9      10     68  online1       1   24  0.564394"
      ]
     },
     "execution_count": 5,
     "metadata": {},
     "output_type": "execute_result"
    }
   ],
   "source": [
    "online1"
   ]
  },
  {
   "cell_type": "markdown",
   "id": "a9b58141-56c9-4dfb-98b5-2c707c6cad4b",
   "metadata": {},
   "source": [
    "### A simple plot"
   ]
  },
  {
   "cell_type": "code",
   "execution_count": 6,
   "id": "27dd337c-8f94-4532-bfe1-8a4ca5759830",
   "metadata": {},
   "outputs": [
    {
     "data": {
      "image/png": "[encoded data removed]",
      "text/plain": [
       "<Figure size 432x288 with 1 Axes>"
      ]
     },
     "metadata": {
      "needs_background": "light"
     },
     "output_type": "display_data"
    }
   ],
   "source": [
    "fig, ax = plt.subplots();\n",
    "ax.plot(online1['period'], online1['price']);"
   ]
  },
  {
   "cell_type": "code",
   "execution_count": 7,
   "id": "92926fa0-f649-4c32-823f-eb355c3d8cc6",
   "metadata": {},
   "outputs": [
    {
     "data": {
      "text/plain": [
       "matplotlib.axes._subplots.AxesSubplot"
      ]
     },
     "execution_count": 7,
     "metadata": {},
     "output_type": "execute_result"
    }
   ],
   "source": [
    "type(ax)"
   ]
  },
  {
   "cell_type": "markdown",
   "id": "dc63359f-11a9-4492-9c14-5e13dff91578",
   "metadata": {},
   "source": [
    "### Plotting multiple relationships in same figure"
   ]
  },
  {
   "cell_type": "code",
   "execution_count": 8,
   "id": "c81cbe17-9a19-4f3b-b058-70f67211d2b7",
   "metadata": {},
   "outputs": [
    {
     "data": {
      "image/png": "[encoded data removed]",
      "text/plain": [
       "<Figure size 432x288 with 1 Axes>"
      ]
     },
     "metadata": {},
     "output_type": "display_data"
    }
   ],
   "source": [
    "fig, ax = plt.subplots(facecolor=(1, 1, 1))\n",
    "ax.plot(online1['period'], online1['price'], color='blue', label='online1')\n",
    "ax.plot(online1['period'], online1['fv'], color='gray', linestyle='--', label=\"fv\")\n",
    "\n",
    "ax.set_xlabel(\"Trading Period\")\n",
    "ax.set_ylabel(\"Price\")\n",
    "\n",
    "\n",
    "ax.legend(loc='upper right');\n",
    "ax.set_title(\"Market Prices\")\n",
    "plt.savefig('online1.png')"
   ]
  },
  {
   "cell_type": "markdown",
   "id": "1ceadc8a-3d60-4766-98c0-5eb8951c1d63",
   "metadata": {},
   "source": [
    "#### Multiple Subplots"
   ]
  },
  {
   "cell_type": "code",
   "execution_count": 9,
   "id": "3f005a5f-da0e-4607-b1d0-1b17e15a8759",
   "metadata": {},
   "outputs": [],
   "source": [
    "online2 = df[(df['session'] == 'online1') & (df['market'] == 2)]"
   ]
  },
  {
   "cell_type": "code",
   "execution_count": 10,
   "id": "ed149aab-4440-4433-9c47-31931157a325",
   "metadata": {},
   "outputs": [
    {
     "data": {
      "image/png": "[encoded data removed]",
      "text/plain": [
       "<Figure size 432x288 with 2 Axes>"
      ]
     },
     "metadata": {},
     "output_type": "display_data"
    }
   ],
   "source": [
    "fig, ax = plt.subplots(nrows=2, ncols=1, sharex=True, sharey=True, facecolor=(1, 1, 1))\n",
    "ax[0].plot(online1['period'], online1['price'], color='blue');\n",
    "ax[1].plot(online2['period'], online2['price'], color='orange');\n",
    "\n",
    "fig.supxlabel('Trading Period');\n",
    "fig.supylabel('Price');\n",
    "ax[0].set_title('First Market');\n",
    "ax[1].set_title('Second Market');\n",
    "plt.savefig('twomarkets.png')"
   ]
  }
 ],
 "metadata": {
  "kernelspec": {
   "display_name": "Python 3",
   "language": "python",
   "name": "python3"
  },
  "language_info": {
   "codemirror_mode": {
    "name": "ipython",
    "version": 3
   },
   "file_extension": ".py",
   "mimetype": "text/x-python",
   "name": "python",
   "nbconvert_exporter": "python",
   "pygments_lexer": "ipython3",
   "version": "3.8.11"
  }
 },
 "nbformat": 4,
 "nbformat_minor": 5
}
