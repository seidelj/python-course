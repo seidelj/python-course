{
 "cells": [
  {
   "cell_type": "markdown",
   "id": "2b652634-5960-47f7-9e41-43d3d277b175",
   "metadata": {},
   "source": [
    "We will need requests and beautifulsoup\n",
    "```\n",
    "$ pip install requests\n",
    "$ pip install beautifulsoup4\n",
    "```"
   ]
  },
  {
   "cell_type": "code",
   "execution_count": 1,
   "id": "d079de2b-baf6-43e6-a3d7-cfbf951a445b",
   "metadata": {},
   "outputs": [],
   "source": [
    "import requests\n",
    "from bs4 import BeautifulSoup"
   ]
  },
  {
   "cell_type": "markdown",
   "id": "1c08acae-8c1c-4ac0-9532-154e40e81b7e",
   "metadata": {},
   "source": [
    "## Download the HTML\n",
    "\n",
    "Requests allows us to send HTTP requests.  We will provide a URL string to `requests.get()` and be returned with a response object.  The response object contains the server (websites) response to the the HTTP request. "
   ]
  },
  {
   "cell_type": "code",
   "execution_count": 2,
   "id": "2c695a6d-0279-4e84-a5cf-90a8dccb038a",
   "metadata": {},
   "outputs": [],
   "source": [
    "url = 'http://www.fieldexperiments.com/papers/'\n",
    "page = requests.get(url)"
   ]
  },
  {
   "cell_type": "code",
   "execution_count": 3,
   "id": "1e3dc9cc-8282-4531-a65e-b5dfd1f2b3be",
   "metadata": {},
   "outputs": [
    {
     "data": {
      "text/plain": [
       "<Response [200]>"
      ]
     },
     "execution_count": 3,
     "metadata": {},
     "output_type": "execute_result"
    }
   ],
   "source": [
    "page"
   ]
  },
  {
   "cell_type": "markdown",
   "id": "24b699c8-e9d4-4d13-9692-783aaf599423",
   "metadata": {},
   "source": [
    "200 is the OK status response code, meaning success!"
   ]
  },
  {
   "cell_type": "code",
   "execution_count": null,
   "id": "fa3188d7-9bc4-4cab-b48a-9295a375c789",
   "metadata": {},
   "outputs": [],
   "source": [
    "page.content"
   ]
  },
  {
   "cell_type": "markdown",
   "id": "c186a869-0926-431f-abca-35476e7157c8",
   "metadata": {},
   "source": [
    "## Parse the reponse content"
   ]
  },
  {
   "cell_type": "code",
   "execution_count": null,
   "id": "129b2276-1a6a-4e2e-865e-75e4edfa9710",
   "metadata": {},
   "outputs": [],
   "source": [
    "soup = BeautifulSoup(page.content, \"html.parser\")\n",
    "print(soup.prettify())"
   ]
  },
  {
   "cell_type": "markdown",
   "id": "7885d6ae-b22a-4d4e-9a4f-5072afa06645",
   "metadata": {},
   "source": [
    "### Navigating the HTML"
   ]
  },
  {
   "cell_type": "code",
   "execution_count": 6,
   "id": "27f01864-89c2-42db-bdb2-4b751b8d5973",
   "metadata": {},
   "outputs": [
    {
     "data": {
      "text/plain": [
       "<title>Field Experiments</title>"
      ]
     },
     "execution_count": 6,
     "metadata": {},
     "output_type": "execute_result"
    }
   ],
   "source": [
    "soup.title  "
   ]
  },
  {
   "cell_type": "code",
   "execution_count": 7,
   "id": "75103faf-3c83-4a32-9825-2d44f31d2810",
   "metadata": {},
   "outputs": [
    {
     "data": {
      "text/plain": [
       "'Field Experiments'"
      ]
     },
     "execution_count": 7,
     "metadata": {},
     "output_type": "execute_result"
    }
   ],
   "source": [
    "soup.title.string"
   ]
  },
  {
   "cell_type": "markdown",
   "id": "104fb75c-ad67-4004-b456-e8ad70019454",
   "metadata": {},
   "source": [
    "We can create a list of all a certain type of html tags using find_all, e.g. 'p', 'a', 'div'..."
   ]
  },
  {
   "cell_type": "code",
   "execution_count": null,
   "id": "d24ed42a-b1ea-461a-ad93-073bd5ab22c9",
   "metadata": {},
   "outputs": [],
   "source": [
    "#soup.find_all('div')\n",
    "soup.find_all('a')"
   ]
  },
  {
   "cell_type": "markdown",
   "id": "79f8d64b-2bd7-4da5-8359-7e40663e7a30",
   "metadata": {},
   "source": [
    "### Find element by 'id'"
   ]
  },
  {
   "cell_type": "code",
   "execution_count": 9,
   "id": "d1c0f736-7da8-4b3f-89ff-eeeca0ae6a14",
   "metadata": {},
   "outputs": [],
   "source": [
    "container = soup.find(id='accordion')"
   ]
  },
  {
   "cell_type": "markdown",
   "id": "d6696099-4085-4e3a-83f9-d45eed22604e",
   "metadata": {},
   "source": [
    "Let's get a list of all the elements with CSS class name 'panel'."
   ]
  },
  {
   "cell_type": "code",
   "execution_count": 10,
   "id": "819df4cb-66d6-495c-84fa-9e7264cdba25",
   "metadata": {},
   "outputs": [],
   "source": [
    "paperList = container.find_all('div', class_='panel')"
   ]
  },
  {
   "cell_type": "code",
   "execution_count": null,
   "id": "35433884-91ea-43e5-91a3-7e01e5bea46a",
   "metadata": {},
   "outputs": [],
   "source": [
    "paperList"
   ]
  },
  {
   "cell_type": "code",
   "execution_count": 12,
   "id": "3dc14051-18b4-4abe-8627-024dd2f761bc",
   "metadata": {},
   "outputs": [],
   "source": [
    "first = paperList[0]"
   ]
  },
  {
   "cell_type": "markdown",
   "id": "4f3a3699-3e1b-4511-b2b1-49d7082ea731",
   "metadata": {},
   "source": [
    "First we get the title using the \"a\" tag."
   ]
  },
  {
   "cell_type": "code",
   "execution_count": 13,
   "id": "f5f1aa3e-fb18-44c4-b6a3-a52b99336d08",
   "metadata": {},
   "outputs": [
    {
     "data": {
      "text/plain": [
       "\"2020: A Summary Of Artefactual Field Experiments On Fieldexperiments.Com: The Who's, What's, Where's, And When's\""
      ]
     },
     "execution_count": 13,
     "metadata": {},
     "output_type": "execute_result"
    }
   ],
   "source": [
    "title = first.find('a').text\n",
    "title"
   ]
  },
  {
   "cell_type": "markdown",
   "id": "5d944947-b8b7-4043-b1e9-fb7424db3469",
   "metadata": {},
   "source": [
    "Next we can use `find_all` to get a list of authors"
   ]
  },
  {
   "cell_type": "code",
   "execution_count": null,
   "id": "f99993b2-17f6-46ec-9647-c5362c8723cd",
   "metadata": {},
   "outputs": [],
   "source": [
    "first"
   ]
  },
  {
   "cell_type": "code",
   "execution_count": 15,
   "id": "75e7b977-dce2-47a6-9cdb-1597304e6f5c",
   "metadata": {},
   "outputs": [
    {
     "data": {
      "text/plain": [
       "{'name': 'citation_author', 'content': 'List John A'}"
      ]
     },
     "execution_count": 15,
     "metadata": {},
     "output_type": "execute_result"
    }
   ],
   "source": [
    "authorsList = first.find_all(attrs={'name': 'citation_author'})\n",
    "authorsList[0].attrs"
   ]
  },
  {
   "cell_type": "code",
   "execution_count": 16,
   "id": "c6e12ba2-ff54-4571-a9df-41c77fb5f1d3",
   "metadata": {},
   "outputs": [
    {
     "data": {
      "text/plain": [
       "'List John A'"
      ]
     },
     "execution_count": 16,
     "metadata": {},
     "output_type": "execute_result"
    }
   ],
   "source": [
    "first_author = authorsList[0]['content']\n",
    "first_author"
   ]
  },
  {
   "cell_type": "markdown",
   "id": "be790176-5064-4265-b788-28baf9a21987",
   "metadata": {},
   "source": [
    "Since we know each paper only has one publication date, we can use 'find'"
   ]
  },
  {
   "cell_type": "code",
   "execution_count": 17,
   "id": "352d1eb2-624e-49e2-809d-83a42189e48b",
   "metadata": {},
   "outputs": [
    {
     "data": {
      "text/plain": [
       "{'name': 'citation_publication_date', 'content': '2020'}"
      ]
     },
     "execution_count": 17,
     "metadata": {},
     "output_type": "execute_result"
    }
   ],
   "source": [
    "yearMeta = first.find(attrs={'name': 'citation_publication_date'})\n",
    "yearMeta.attrs"
   ]
  },
  {
   "cell_type": "code",
   "execution_count": 18,
   "id": "1eb3e751-d313-417a-862f-0a6d3ba1dc59",
   "metadata": {},
   "outputs": [],
   "source": [
    "year = yearMeta['content']"
   ]
  },
  {
   "cell_type": "code",
   "execution_count": 19,
   "id": "63280e9f-b409-45e6-94b9-71144b74e768",
   "metadata": {},
   "outputs": [
    {
     "data": {
      "text/plain": [
       "[{'title': \"2020: A Summary Of Artefactual Field Experiments On Fieldexperiments.Com: The Who's, What's, Where's, And When's\",\n",
       "  'first_author': 'List John A',\n",
       "  'year': '2020'},\n",
       " {'title': \"2020: A Summary Of Framed Field Experiments On Fieldexperiments.Com: The Who's, What's Where's, And When's\",\n",
       "  'first_author': 'List John A',\n",
       "  'year': '2020'},\n",
       " {'title': '2020 Summary Data Of Natural Field Experiments Published On Fieldexperiments.Com',\n",
       "  'first_author': 'List John A',\n",
       "  'year': '2020'},\n",
       " {'title': '2021 Summary Data Of Artefactual Field Experiments Published On Fieldexperiments.Com',\n",
       "  'first_author': 'List John A',\n",
       "  'year': '2022'},\n",
       " {'title': '2021 Summary Data Of Natural Field Experiments Published On Fieldexperiments.Com',\n",
       "  'first_author': 'List John A',\n",
       "  'year': ''},\n",
       " {'title': 'Academic Economists Behaving Badly? A Survey On Three Areas Of Unethical Behavior',\n",
       "  'first_author': 'Bailey Charles ',\n",
       "  'year': '2001'},\n",
       " {'title': 'Achievement Awards For High School Matriculation: Evidence From Randomized Trials',\n",
       "  'first_author': 'Angrist Joshua D',\n",
       "  'year': '2003'},\n",
       " {'title': 'Actions And Beliefs: Estimating Distribution-Based Preferences Using A Large Scale Experiment With Probability Questions On Expectations',\n",
       "  'first_author': 'Bellemare Charles ',\n",
       "  'year': '2005'},\n",
       " {'title': 'Active Decisions And Pro-Social Behavior: A Field Experiment On Blood Donation',\n",
       "  'first_author': 'Goette Lorenz ',\n",
       "  'year': '2007'},\n",
       " {'title': 'A Dollar For Your Thoughts: Feedback-Conditional Rebates On Ebay',\n",
       "  'first_author': 'Cabral Luis ',\n",
       "  'year': '2015'}]"
      ]
     },
     "execution_count": 19,
     "metadata": {},
     "output_type": "execute_result"
    }
   ],
   "source": [
    "d = []\n",
    "for paper in paperList:\n",
    "    title = paper.find('a').text\n",
    "    \n",
    "    authorsList = paper.find_all(attrs={'name': 'citation_author'})\n",
    "    first_author = authorsList[0]['content']\n",
    "    \n",
    "    yearMeta = paper.find(attrs={'name': 'citation_publication_date'})\n",
    "    year = yearMeta['content']\n",
    "    \n",
    "\n",
    "    tempDict = dict(\n",
    "        title=title,\n",
    "        first_author=first_author,\n",
    "        year=year\n",
    "    )\n",
    "    d.append(tempDict)\n",
    "    \n",
    "d"
   ]
  },
  {
   "cell_type": "markdown",
   "id": "010f340c-6082-49a0-9bf3-f357236704f5",
   "metadata": {},
   "source": [
    "## Export to csv\n",
    "\n",
    "Since we have the data stored as a list of dictionaries, we can easily create a dataframe object of our data and then write it to csv.\n"
   ]
  },
  {
   "cell_type": "code",
   "execution_count": 20,
   "id": "b1486a94-8199-4e72-a059-d8e5ca8d8f33",
   "metadata": {},
   "outputs": [
    {
     "data": {
      "text/html": [
       "<div>\n",
       "<style scoped>\n",
       "    .dataframe tbody tr th:only-of-type {\n",
       "        vertical-align: middle;\n",
       "    }\n",
       "\n",
       "    .dataframe tbody tr th {\n",
       "        vertical-align: top;\n",
       "    }\n",
       "\n",
       "    .dataframe thead th {\n",
       "        text-align: right;\n",
       "    }\n",
       "</style>\n",
       "<table border=\"1\" class=\"dataframe\">\n",
       "  <thead>\n",
       "    <tr style=\"text-align: right;\">\n",
       "      <th></th>\n",
       "      <th>title</th>\n",
       "      <th>first_author</th>\n",
       "      <th>year</th>\n",
       "    </tr>\n",
       "  </thead>\n",
       "  <tbody>\n",
       "    <tr>\n",
       "      <th>0</th>\n",
       "      <td>2020: A Summary Of Artefactual Field Experimen...</td>\n",
       "      <td>List John A</td>\n",
       "      <td>2020</td>\n",
       "    </tr>\n",
       "    <tr>\n",
       "      <th>1</th>\n",
       "      <td>2020: A Summary Of Framed Field Experiments On...</td>\n",
       "      <td>List John A</td>\n",
       "      <td>2020</td>\n",
       "    </tr>\n",
       "    <tr>\n",
       "      <th>2</th>\n",
       "      <td>2020 Summary Data Of Natural Field Experiments...</td>\n",
       "      <td>List John A</td>\n",
       "      <td>2020</td>\n",
       "    </tr>\n",
       "    <tr>\n",
       "      <th>3</th>\n",
       "      <td>2021 Summary Data Of Artefactual Field Experim...</td>\n",
       "      <td>List John A</td>\n",
       "      <td>2022</td>\n",
       "    </tr>\n",
       "    <tr>\n",
       "      <th>4</th>\n",
       "      <td>2021 Summary Data Of Natural Field Experiments...</td>\n",
       "      <td>List John A</td>\n",
       "      <td></td>\n",
       "    </tr>\n",
       "    <tr>\n",
       "      <th>5</th>\n",
       "      <td>Academic Economists Behaving Badly? A Survey O...</td>\n",
       "      <td>Bailey Charles</td>\n",
       "      <td>2001</td>\n",
       "    </tr>\n",
       "    <tr>\n",
       "      <th>6</th>\n",
       "      <td>Achievement Awards For High School Matriculati...</td>\n",
       "      <td>Angrist Joshua D</td>\n",
       "      <td>2003</td>\n",
       "    </tr>\n",
       "    <tr>\n",
       "      <th>7</th>\n",
       "      <td>Actions And Beliefs: Estimating Distribution-B...</td>\n",
       "      <td>Bellemare Charles</td>\n",
       "      <td>2005</td>\n",
       "    </tr>\n",
       "    <tr>\n",
       "      <th>8</th>\n",
       "      <td>Active Decisions And Pro-Social Behavior: A Fi...</td>\n",
       "      <td>Goette Lorenz</td>\n",
       "      <td>2007</td>\n",
       "    </tr>\n",
       "    <tr>\n",
       "      <th>9</th>\n",
       "      <td>A Dollar For Your Thoughts: Feedback-Condition...</td>\n",
       "      <td>Cabral Luis</td>\n",
       "      <td>2015</td>\n",
       "    </tr>\n",
       "  </tbody>\n",
       "</table>\n",
       "</div>"
      ],
      "text/plain": [
       "                                               title        first_author  year\n",
       "0  2020: A Summary Of Artefactual Field Experimen...         List John A  2020\n",
       "1  2020: A Summary Of Framed Field Experiments On...         List John A  2020\n",
       "2  2020 Summary Data Of Natural Field Experiments...         List John A  2020\n",
       "3  2021 Summary Data Of Artefactual Field Experim...         List John A  2022\n",
       "4  2021 Summary Data Of Natural Field Experiments...         List John A      \n",
       "5  Academic Economists Behaving Badly? A Survey O...     Bailey Charles   2001\n",
       "6  Achievement Awards For High School Matriculati...    Angrist Joshua D  2003\n",
       "7  Actions And Beliefs: Estimating Distribution-B...  Bellemare Charles   2005\n",
       "8  Active Decisions And Pro-Social Behavior: A Fi...      Goette Lorenz   2007\n",
       "9  A Dollar For Your Thoughts: Feedback-Condition...        Cabral Luis   2015"
      ]
     },
     "execution_count": 20,
     "metadata": {},
     "output_type": "execute_result"
    }
   ],
   "source": [
    "import pandas as pd\n",
    "\n",
    "df = pd.DataFrame(d)\n",
    "df"
   ]
  },
  {
   "cell_type": "code",
   "execution_count": 22,
   "id": "4c5541b1-e28a-4e65-9762-653c30245a36",
   "metadata": {},
   "outputs": [],
   "source": [
    "import os\n",
    "\n",
    "csvFilePath = os.path.join(os.getcwd(), 'fe_scrape.csv')\n",
    "df.to_csv(csvFilePath, index=False)"
   ]
  },
  {
   "cell_type": "code",
   "execution_count": null,
   "id": "273372bb-804e-4aa5-84df-a357e19d1e6f",
   "metadata": {},
   "outputs": [],
   "source": []
  }
 ],
 "metadata": {
  "kernelspec": {
   "display_name": "Python 3",
   "language": "python",
   "name": "python3"
  },
  "language_info": {
   "codemirror_mode": {
    "name": "ipython",
    "version": 3
   },
   "file_extension": ".py",
   "mimetype": "text/x-python",
   "name": "python",
   "nbconvert_exporter": "python",
   "pygments_lexer": "ipython3",
   "version": "3.8.11"
  }
 },
 "nbformat": 4,
 "nbformat_minor": 5
}
