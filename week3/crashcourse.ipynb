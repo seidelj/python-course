{
 "cells": [
  {
   "cell_type": "markdown",
   "id": "11a9ead2-edea-4c2f-ac36-22ed409f093e",
   "metadata": {
    "tags": []
   },
   "source": [
    "# Things to cover\n",
    "\n",
    "* Variables\n",
    "* Datatypes\n",
    "    * Numbers\n",
    "    * String\n",
    "    * List\n",
    "    * Dictionary \n",
    "    \n",
    "* Modules\n",
    "    * math\n",
    "    * os\n",
    "    \n",
    "* Python as a calculator\n",
    "\n",
    "* Strings, Numbers, and Operators\n",
    "\n",
    "* Lists\n",
    "    * splicing\n",
    "    * combining\n",
    "    * indexing\n",
    "    * list methods\n",
    "    * looping\n",
    "    * comprehensions\n",
    "    \n",
    "* Dictionaries\n",
    "    * creating\n",
    "    * del\n",
    "    * looping\n",
    "    \n",
    "* List Dictionaries\n",
    "    * looping\n",
    "    \n",
    "* if/elif/else\n",
    "    * nesting\n",
    "\n",
    "* Custom function/methods\n",
    "    * helloworld\n",
    "    * bigger\n"
   ]
  },
  {
   "cell_type": "code",
   "execution_count": 18,
   "id": "c23328a6-7119-4c9b-b9cd-ebf9587b8122",
   "metadata": {},
   "outputs": [
    {
     "name": "stdout",
     "output_type": "stream",
     "text": [
      "joe 33\n",
      "wally 1\n",
      "joe 33\n",
      "wally 1\n"
     ]
    }
   ],
   "source": [
    "d = { 'joe': 33, 'wally': 1}\n",
    "for key, value in d.items():\n",
    "    print(key, value)\n",
    "    \n",
    "for key in d:\n",
    "    print(key, d[key])"
   ]
  },
  {
   "cell_type": "code",
   "execution_count": 22,
   "id": "a2189b76-d582-43ab-bd04-6d1129bdfd2c",
   "metadata": {},
   "outputs": [
    {
     "name": "stdout",
     "output_type": "stream",
     "text": [
      "true\n"
     ]
    }
   ],
   "source": [
    "\n"
   ]
  },
  {
   "cell_type": "code",
   "execution_count": null,
   "id": "fb248955-5378-4971-9694-2a5aa5ebce59",
   "metadata": {},
   "outputs": [],
   "source": []
  }
 ],
 "metadata": {
  "kernelspec": {
   "display_name": "Python 3",
   "language": "python",
   "name": "python3"
  },
  "language_info": {
   "codemirror_mode": {
    "name": "ipython",
    "version": 3
   },
   "file_extension": ".py",
   "mimetype": "text/x-python",
   "name": "python",
   "nbconvert_exporter": "python",
   "pygments_lexer": "ipython3",
   "version": "3.8.11"
  }
 },
 "nbformat": 4,
 "nbformat_minor": 5
}
