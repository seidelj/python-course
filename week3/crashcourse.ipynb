{
 "cells": [
  {
   "cell_type": "markdown",
   "id": "11a9ead2-edea-4c2f-ac36-22ed409f093e",
   "metadata": {
    "tags": []
   },
   "source": [
    "# The \"elements\" of Python\n",
    "\n",
    "* Variables\n",
    "\n",
    "* Datatypes\n",
    "    * Numbers\n",
    "    * String\n",
    "    * List\n",
    "    * Dictionary \n",
    "    \n",
    "* Modules\n",
    "    * math\n",
    "    * os\n",
    "    \n",
    "* Python as a calculator\n",
    "\n",
    "* Strings, Numbers, and Operators\n",
    "\n",
    "* Lists\n",
    "    * splicing\n",
    "    * combining\n",
    "    * indexing\n",
    "    * list methods\n",
    "    * looping\n",
    "    * comprehensions (skip)\n",
    "    \n",
    "* Dictionaries\n",
    "    * creating\n",
    "    * del\n",
    "    * looping\n",
    "    \n",
    "* if/elif/else\n",
    "\n",
    "* Custom function/methods\n",
    "\n",
    "* Classes\n"
   ]
  }
 ],
 "metadata": {
  "kernelspec": {
   "display_name": "Python 3",
   "language": "python",
   "name": "python3"
  },
  "language_info": {
   "codemirror_mode": {
    "name": "ipython",
    "version": 3
   },
   "file_extension": ".py",
   "mimetype": "text/x-python",
   "name": "python",
   "nbconvert_exporter": "python",
   "pygments_lexer": "ipython3",
   "version": "3.8.11"
  }
 },
 "nbformat": 4,
 "nbformat_minor": 5
}
