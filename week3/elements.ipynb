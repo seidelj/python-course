{
 "cells": [
  {
   "cell_type": "markdown",
   "id": "11a9ead2-edea-4c2f-ac36-22ed409f093e",
   "metadata": {
    "tags": []
   },
   "source": [
    "# The \"elements\" of Python\n",
    "\n",
    "* Variables\n",
    "\n",
    "* Datatypes\n",
    "    * Numbers\n",
    "    * String\n",
    "    * List\n",
    "    * Dictionary \n",
    "    \n",
    "* Modules\n",
    "    * math\n",
    "    * os\n",
    "    \n",
    "* Python as a calculator\n",
    "\n",
    "* Strings, Numbers, and Operators\n",
    "\n",
    "* Lists\n",
    "    * splicing\n",
    "    * combining\n",
    "    * indexing\n",
    "    * list methods\n",
    "    * looping\n",
    "    * comprehensions (skip)\n",
    "    \n",
    "* Dictionaries\n",
    "    * creating\n",
    "    * del\n",
    "    * looping\n",
    "    \n",
    "* if/elif/else\n",
    "\n",
    "* Custom function/methods\n",
    "\n",
    "* Classes\n"
   ]
  },
  {
   "cell_type": "markdown",
   "id": "d22df4af-7736-47c2-89e7-0ebe3fd9523c",
   "metadata": {
    "tags": []
   },
   "source": [
    "## Variables and Datatypes\n",
    "\n",
    "In this section I cover defining variables and data types in pyton"
   ]
  },
  {
   "cell_type": "code",
   "execution_count": 8,
   "id": "45f4541a-f18e-4580-a75b-e6a699d1b72f",
   "metadata": {},
   "outputs": [],
   "source": [
    "anInt = 2\n",
    "aFloat = 5.0\n",
    "aString = \"hello\"\n",
    "aList = [1,2,3]\n",
    "aDict = {'joe': 5, 'wally': 2}"
   ]
  },
  {
   "cell_type": "code",
   "execution_count": 6,
   "id": "fb248955-5378-4971-9694-2a5aa5ebce59",
   "metadata": {},
   "outputs": [
    {
     "name": "stdout",
     "output_type": "stream",
     "text": [
      "2\n"
     ]
    },
    {
     "data": {
      "text/plain": [
       "float"
      ]
     },
     "execution_count": 6,
     "metadata": {},
     "output_type": "execute_result"
    }
   ],
   "source": [
    "print(anInt)\n",
    "type(anInt)\n",
    "type(aFloat)"
   ]
  },
  {
   "cell_type": "code",
   "execution_count": 10,
   "id": "902d0810-8e78-41ef-845f-f88791f5c79e",
   "metadata": {},
   "outputs": [
    {
     "name": "stdout",
     "output_type": "stream",
     "text": [
      "1 2\n"
     ]
    }
   ],
   "source": [
    "anint = 1\n",
    "print(anint, anInt)"
   ]
  },
  {
   "cell_type": "markdown",
   "id": "acd1603c-8e39-4bb7-ba9b-bcabf29b4b67",
   "metadata": {},
   "source": [
    "## Modules\n",
    "\n",
    "Here we use two built-in Python modules, os and math"
   ]
  },
  {
   "cell_type": "code",
   "execution_count": 11,
   "id": "006d55b0-ccd4-4d81-abee-25d0d7e6c0c8",
   "metadata": {},
   "outputs": [],
   "source": [
    "import os\n",
    "import math\n",
    "import math, os"
   ]
  },
  {
   "cell_type": "code",
   "execution_count": 12,
   "id": "a18511da-cfb7-41b0-87eb-82dc9a48bbe2",
   "metadata": {},
   "outputs": [
    {
     "data": {
      "text/plain": [
       "'/Users/joseph/python-course/week3'"
      ]
     },
     "execution_count": 12,
     "metadata": {},
     "output_type": "execute_result"
    }
   ],
   "source": [
    "# get the current working directy\n",
    "os.getcwd()"
   ]
  },
  {
   "cell_type": "code",
   "execution_count": 13,
   "id": "1496d7d7-5f5e-4bc5-9e7c-d9c18760a454",
   "metadata": {},
   "outputs": [],
   "source": [
    "import math"
   ]
  },
  {
   "cell_type": "code",
   "execution_count": 15,
   "id": "cb9ef1ef-189e-4e33-b19f-6a7ec62f037e",
   "metadata": {},
   "outputs": [
    {
     "data": {
      "text/plain": [
       "3.141592653589793"
      ]
     },
     "execution_count": 15,
     "metadata": {},
     "output_type": "execute_result"
    }
   ],
   "source": [
    "math.pi"
   ]
  },
  {
   "cell_type": "markdown",
   "id": "2f9ec27b-e23e-4310-a825-0b264e1cf22c",
   "metadata": {},
   "source": [
    "## Python as a calculator"
   ]
  },
  {
   "cell_type": "code",
   "execution_count": 16,
   "id": "338c352c-34ae-42c9-81b5-e9f30f1cd9c1",
   "metadata": {},
   "outputs": [
    {
     "data": {
      "text/plain": [
       "4"
      ]
     },
     "execution_count": 16,
     "metadata": {},
     "output_type": "execute_result"
    }
   ],
   "source": [
    "2+2"
   ]
  },
  {
   "cell_type": "code",
   "execution_count": 17,
   "id": "fcf4b0da-4789-4567-91c6-02050106d561",
   "metadata": {},
   "outputs": [
    {
     "data": {
      "text/plain": [
       "60"
      ]
     },
     "execution_count": 17,
     "metadata": {},
     "output_type": "execute_result"
    }
   ],
   "source": [
    "83-23"
   ]
  },
  {
   "cell_type": "code",
   "execution_count": 18,
   "id": "dcb1c017-e5cd-44cc-80cf-7ca1a3649d18",
   "metadata": {},
   "outputs": [
    {
     "name": "stdout",
     "output_type": "stream",
     "text": [
      "9\n"
     ]
    }
   ],
   "source": [
    "product = 3*3\n",
    "print(product)"
   ]
  },
  {
   "cell_type": "code",
   "execution_count": 19,
   "id": "fa269ce4-47ee-4a71-9816-fcdce3d72b3f",
   "metadata": {},
   "outputs": [
    {
     "name": "stdout",
     "output_type": "stream",
     "text": [
      "2.0\n"
     ]
    }
   ],
   "source": [
    "a = 50\n",
    "b = 25\n",
    "print(a/b)"
   ]
  },
  {
   "cell_type": "code",
   "execution_count": 21,
   "id": "715139ef-c1b2-4d2c-8222-bbb25c3920b8",
   "metadata": {},
   "outputs": [
    {
     "name": "stdout",
     "output_type": "stream",
     "text": [
      "2500\n"
     ]
    }
   ],
   "source": [
    "aSquared = a**2\n",
    "print(aSquared)"
   ]
  },
  {
   "cell_type": "markdown",
   "id": "aba0ba8a-2003-4008-b4a4-28c439e3a54d",
   "metadata": {},
   "source": [
    "## Strings, numbers and operators"
   ]
  },
  {
   "cell_type": "code",
   "execution_count": 22,
   "id": "7c909316-b45c-402e-a4a4-177ad29dcbf8",
   "metadata": {},
   "outputs": [],
   "source": [
    "a = 2\n",
    "b = 5\n",
    "c = \"hello\"\n",
    "d = \"world\""
   ]
  },
  {
   "cell_type": "code",
   "execution_count": 23,
   "id": "be67d3f4-4c69-4f1c-99d4-147c91692c32",
   "metadata": {},
   "outputs": [
    {
     "name": "stdout",
     "output_type": "stream",
     "text": [
      "7\n"
     ]
    }
   ],
   "source": [
    "print(a + b)"
   ]
  },
  {
   "cell_type": "code",
   "execution_count": 24,
   "id": "6ecf4cb8-5da2-4e40-8d4f-e8f85000597a",
   "metadata": {},
   "outputs": [
    {
     "ename": "TypeError",
     "evalue": "unsupported operand type(s) for +: 'int' and 'str'",
     "output_type": "error",
     "traceback": [
      "\u001b[0;31m---------------------------------------------------------------------------\u001b[0m",
      "\u001b[0;31mTypeError\u001b[0m                                 Traceback (most recent call last)",
      "\u001b[0;32m<ipython-input-24-2616b5956feb>\u001b[0m in \u001b[0;36m<module>\u001b[0;34m\u001b[0m\n\u001b[0;32m----> 1\u001b[0;31m \u001b[0mprint\u001b[0m\u001b[0;34m(\u001b[0m\u001b[0ma\u001b[0m \u001b[0;34m+\u001b[0m \u001b[0mc\u001b[0m\u001b[0;34m)\u001b[0m\u001b[0;34m\u001b[0m\u001b[0;34m\u001b[0m\u001b[0m\n\u001b[0m",
      "\u001b[0;31mTypeError\u001b[0m: unsupported operand type(s) for +: 'int' and 'str'"
     ]
    }
   ],
   "source": [
    "# When an opperation is not supported by two types you'll see a TypeError\n",
    "\n",
    "\n",
    "print(a + c)"
   ]
  },
  {
   "cell_type": "code",
   "execution_count": 25,
   "id": "7073f794-4435-47e0-b0bd-2e4e9a780ab0",
   "metadata": {},
   "outputs": [
    {
     "name": "stdout",
     "output_type": "stream",
     "text": [
      "hellohello\n"
     ]
    }
   ],
   "source": [
    "print(a * c)"
   ]
  },
  {
   "cell_type": "code",
   "execution_count": 26,
   "id": "6cd0da0b-8e37-4977-95e8-37d25b636d61",
   "metadata": {},
   "outputs": [
    {
     "ename": "TypeError",
     "evalue": "unsupported operand type(s) for /: 'int' and 'str'",
     "output_type": "error",
     "traceback": [
      "\u001b[0;31m---------------------------------------------------------------------------\u001b[0m",
      "\u001b[0;31mTypeError\u001b[0m                                 Traceback (most recent call last)",
      "\u001b[0;32m<ipython-input-26-ba50ed5de10f>\u001b[0m in \u001b[0;36m<module>\u001b[0;34m\u001b[0m\n\u001b[0;32m----> 1\u001b[0;31m \u001b[0mprint\u001b[0m\u001b[0;34m(\u001b[0m\u001b[0mb\u001b[0m\u001b[0;34m/\u001b[0m\u001b[0mc\u001b[0m\u001b[0;34m)\u001b[0m\u001b[0;34m\u001b[0m\u001b[0;34m\u001b[0m\u001b[0m\n\u001b[0m",
      "\u001b[0;31mTypeError\u001b[0m: unsupported operand type(s) for /: 'int' and 'str'"
     ]
    }
   ],
   "source": [
    "# When an opperation is not supported by two types you'll see a TypeError\n",
    "\n",
    "\n",
    "print(b/c)"
   ]
  },
  {
   "cell_type": "code",
   "execution_count": 27,
   "id": "c60e15fa-5048-442a-9a32-df90312823ab",
   "metadata": {},
   "outputs": [
    {
     "name": "stdout",
     "output_type": "stream",
     "text": [
      "helloworld\n"
     ]
    }
   ],
   "source": [
    "print(c + d)"
   ]
  },
  {
   "cell_type": "markdown",
   "id": "ff2f6e69-43d6-4adb-bc42-7c6773b93ce7",
   "metadata": {},
   "source": [
    "## Lists\n",
    "\n",
    "A list is an ordered set of objects"
   ]
  },
  {
   "cell_type": "code",
   "execution_count": 28,
   "id": "b545cc40-69c5-4d38-b38e-abf81fe463ad",
   "metadata": {},
   "outputs": [],
   "source": [
    "ints = [1,2,3,4]\n",
    "reals = [1,2,3.5,4]\n",
    "strings = ['h', 'e', 'l', 'l', 'o']\n",
    "combo = [1, 'h', 2, 'e', 3.5]"
   ]
  },
  {
   "cell_type": "code",
   "execution_count": 29,
   "id": "baa361c2-2fc7-47d2-8055-759128c8707d",
   "metadata": {},
   "outputs": [
    {
     "name": "stdout",
     "output_type": "stream",
     "text": [
      "1 2 3 4\n"
     ]
    }
   ],
   "source": [
    "# lists are indexed at 0\n",
    "print(ints[0], ints[1], ints[2], ints[3])"
   ]
  },
  {
   "cell_type": "code",
   "execution_count": 30,
   "id": "f077e7ee-18cc-40c4-8de5-3325af5a9b6d",
   "metadata": {},
   "outputs": [
    {
     "data": {
      "text/plain": [
       "4"
      ]
     },
     "execution_count": 30,
     "metadata": {},
     "output_type": "execute_result"
    }
   ],
   "source": [
    "ints[3]"
   ]
  },
  {
   "cell_type": "code",
   "execution_count": 31,
   "id": "86b4f0e2-df66-4ef4-9469-ea1bc83987bd",
   "metadata": {},
   "outputs": [
    {
     "data": {
      "text/plain": [
       "4"
      ]
     },
     "execution_count": 31,
     "metadata": {},
     "output_type": "execute_result"
    }
   ],
   "source": [
    "len(ints)"
   ]
  },
  {
   "cell_type": "code",
   "execution_count": 32,
   "id": "0eabecf5-afda-480e-92ca-0634e386524c",
   "metadata": {},
   "outputs": [
    {
     "data": {
      "text/plain": [
       "4"
      ]
     },
     "execution_count": 32,
     "metadata": {},
     "output_type": "execute_result"
    }
   ],
   "source": [
    "ints[len(ints)-1]"
   ]
  },
  {
   "cell_type": "code",
   "execution_count": 33,
   "id": "6285f5af-1672-419d-b516-6fe5b50e235e",
   "metadata": {},
   "outputs": [
    {
     "data": {
      "text/plain": [
       "4"
      ]
     },
     "execution_count": 33,
     "metadata": {},
     "output_type": "execute_result"
    }
   ],
   "source": [
    "ints[-1]"
   ]
  },
  {
   "cell_type": "code",
   "execution_count": 34,
   "id": "b5f30fb9-96a0-40a6-9b5c-2c836e75ee83",
   "metadata": {},
   "outputs": [
    {
     "data": {
      "text/plain": [
       "[1, 2]"
      ]
     },
     "execution_count": 34,
     "metadata": {},
     "output_type": "execute_result"
    }
   ],
   "source": [
    "ints[:2]"
   ]
  },
  {
   "cell_type": "code",
   "execution_count": 35,
   "id": "9b5f7fb2-ef7a-47b5-8421-2fb50f57cfe8",
   "metadata": {},
   "outputs": [
    {
     "data": {
      "text/plain": [
       "[2, 3]"
      ]
     },
     "execution_count": 35,
     "metadata": {},
     "output_type": "execute_result"
    }
   ],
   "source": [
    "ints[1:3]"
   ]
  },
  {
   "cell_type": "code",
   "execution_count": 40,
   "id": "571d71e2-d03e-4760-b799-1646b14a428c",
   "metadata": {},
   "outputs": [
    {
     "data": {
      "text/plain": [
       "[3, 4]"
      ]
     },
     "execution_count": 40,
     "metadata": {},
     "output_type": "execute_result"
    }
   ],
   "source": [
    "ints[-3:]\n",
    "ints[2:]"
   ]
  },
  {
   "cell_type": "code",
   "execution_count": 41,
   "id": "1820f8e9-f47e-475f-9934-5d989030a1a9",
   "metadata": {},
   "outputs": [
    {
     "name": "stdout",
     "output_type": "stream",
     "text": [
      "[1, 2, 3, 4, 5]\n"
     ]
    }
   ],
   "source": [
    "ints.append(5)\n",
    "print(ints)"
   ]
  },
  {
   "cell_type": "code",
   "execution_count": 42,
   "id": "72d57a8b-f3c3-4a42-8ed0-a202c55a1f31",
   "metadata": {},
   "outputs": [
    {
     "name": "stdout",
     "output_type": "stream",
     "text": [
      "5 [1, 2, 3, 4]\n"
     ]
    }
   ],
   "source": [
    "lastItem = ints.pop()\n",
    "print(lastItem, ints)"
   ]
  },
  {
   "cell_type": "code",
   "execution_count": 43,
   "id": "88c30fee-9593-437b-a0ca-713afbaf86ed",
   "metadata": {},
   "outputs": [
    {
     "name": "stdout",
     "output_type": "stream",
     "text": [
      "[1, 2, 3, 4, 1, 2, 3.5, 4]\n"
     ]
    }
   ],
   "source": [
    "print(ints + reals)"
   ]
  },
  {
   "cell_type": "code",
   "execution_count": 45,
   "id": "3c4c1bea-754f-4f14-97fa-70b22d6b434f",
   "metadata": {},
   "outputs": [
    {
     "name": "stdout",
     "output_type": "stream",
     "text": [
      "1\n",
      "2\n",
      "3\n",
      "4\n",
      "[1, 2, 3, 4]\n"
     ]
    }
   ],
   "source": [
    "for i in ints:\n",
    "    print(i)\n",
    "\n",
    "print(ints)"
   ]
  },
  {
   "cell_type": "markdown",
   "id": "e2013bdb-539d-4db4-8942-c710d66d08f4",
   "metadata": {
    "tags": []
   },
   "source": [
    "## Dictionaries \n",
    "\n",
    "Dictionaries are used in Python to store data in key:value pairs"
   ]
  },
  {
   "cell_type": "code",
   "execution_count": 32,
   "id": "63998012-e85e-4241-85c5-de3bed6c1188",
   "metadata": {},
   "outputs": [],
   "source": [
    "aDict = {'joe': 5, 'wally': 2}"
   ]
  },
  {
   "cell_type": "code",
   "execution_count": 33,
   "id": "fd61f79f-a02e-4031-9fbb-0f50197903c5",
   "metadata": {},
   "outputs": [
    {
     "data": {
      "text/plain": [
       "5"
      ]
     },
     "execution_count": 33,
     "metadata": {},
     "output_type": "execute_result"
    }
   ],
   "source": [
    "aDict['joe']"
   ]
  },
  {
   "cell_type": "code",
   "execution_count": 34,
   "id": "a0eebc19-2e7a-4512-a98e-a75eb63b331b",
   "metadata": {},
   "outputs": [
    {
     "data": {
      "text/plain": [
       "2"
      ]
     },
     "execution_count": 34,
     "metadata": {},
     "output_type": "execute_result"
    }
   ],
   "source": [
    "aDict['wally']"
   ]
  },
  {
   "cell_type": "code",
   "execution_count": 35,
   "id": "be0f019b-79f5-4b5c-8e4a-a3f9ee421485",
   "metadata": {},
   "outputs": [
    {
     "data": {
      "text/plain": [
       "6"
      ]
     },
     "execution_count": 35,
     "metadata": {},
     "output_type": "execute_result"
    }
   ],
   "source": [
    "aDict['joe'] = 6\n",
    "aDict['joe']"
   ]
  },
  {
   "cell_type": "code",
   "execution_count": 36,
   "id": "50c1185f-71be-44a6-a69f-f5832d562830",
   "metadata": {},
   "outputs": [
    {
     "data": {
      "text/plain": [
       "{'joe': 6}"
      ]
     },
     "execution_count": 36,
     "metadata": {},
     "output_type": "execute_result"
    }
   ],
   "source": [
    "del aDict['wally']\n",
    "aDict"
   ]
  },
  {
   "cell_type": "code",
   "execution_count": 37,
   "id": "947743d6-982f-4262-9d03-09b82a24c7d6",
   "metadata": {},
   "outputs": [
    {
     "data": {
      "text/plain": [
       "{'joe': 6}"
      ]
     },
     "execution_count": 37,
     "metadata": {},
     "output_type": "execute_result"
    }
   ],
   "source": [
    "aDict"
   ]
  },
  {
   "cell_type": "code",
   "execution_count": 38,
   "id": "7245a328-4cbb-45a9-9ab8-9339136f061e",
   "metadata": {},
   "outputs": [],
   "source": [
    "aDict['isla'] = 0"
   ]
  },
  {
   "cell_type": "code",
   "execution_count": 39,
   "id": "d97a4f52-51bd-4ba1-93a4-6e9fc7bea8e2",
   "metadata": {},
   "outputs": [
    {
     "data": {
      "text/plain": [
       "{'joe': 6, 'isla': 0}"
      ]
     },
     "execution_count": 39,
     "metadata": {},
     "output_type": "execute_result"
    }
   ],
   "source": [
    "aDict"
   ]
  },
  {
   "cell_type": "markdown",
   "id": "070e3bc7-2832-4785-a324-f9f9f9ef012b",
   "metadata": {},
   "source": [
    "## If statements\n",
    "\n",
    "We can use `if` statements to control or decide which code will be executed.  `if` statements begin with `if` and are often followed by `elif` and/or `else` keywords, but theses are not required."
   ]
  },
  {
   "cell_type": "code",
   "execution_count": 40,
   "id": "323fe7ea-12ff-4534-aeac-dbcc36e8521f",
   "metadata": {},
   "outputs": [
    {
     "name": "stdout",
     "output_type": "stream",
     "text": [
      "value is less than 200\n"
     ]
    }
   ],
   "source": [
    "value = 100\n",
    "\n",
    "if value < 200:\n",
    "    print(\"value is less than 200\")\n",
    "else:\n",
    "    print(\"value is greater than 200\")\n",
    "        "
   ]
  },
  {
   "cell_type": "code",
   "execution_count": 41,
   "id": "11d4033d-0d33-4f62-8d3f-6abd45c805ba",
   "metadata": {},
   "outputs": [
    {
     "name": "stdout",
     "output_type": "stream",
     "text": [
      "values is greater than 300\n"
     ]
    }
   ],
   "source": [
    "value = 301\n",
    "if value < 200:\n",
    "    print(\"value is less than 200\")\n",
    "# if the conditions preceeding are false, try this\n",
    "elif value < 300:\n",
    "    print(\"value is greater than 200 but less than 300\")\n",
    "else:\n",
    "    print(\"values is greater than 300\")"
   ]
  },
  {
   "cell_type": "code",
   "execution_count": 42,
   "id": "7b687153-6892-4ed5-b942-5bb5e7af60fc",
   "metadata": {},
   "outputs": [
    {
     "name": "stdout",
     "output_type": "stream",
     "text": [
      "values is greater than 300\n"
     ]
    }
   ],
   "source": [
    "value == 100\n",
    "if value < 200:\n",
    "    if value == 100:\n",
    "        print(\"value is 100\")\n",
    "    else:\n",
    "        print(\"value is less than 200, but not 100\")\n",
    "elif value < 300:\n",
    "    print(\"value is greater than 200 but less than 300\")\n",
    "else:\n",
    "    print(\"values is greater than 300\")"
   ]
  },
  {
   "cell_type": "markdown",
   "id": "e7f8f836-4871-4370-90bb-156ad779f18f",
   "metadata": {},
   "source": [
    "### Comparison Operators\n",
    "\n",
    "Comparison opperators can be used to compare two values"
   ]
  },
  {
   "cell_type": "code",
   "execution_count": 43,
   "id": "b3f7685c-0762-46d6-abfb-6e1a321fbf82",
   "metadata": {},
   "outputs": [
    {
     "name": "stdout",
     "output_type": "stream",
     "text": [
      "True\n"
     ]
    }
   ],
   "source": [
    "print(1 == 1)"
   ]
  },
  {
   "cell_type": "code",
   "execution_count": 44,
   "id": "d45bed1d-b541-4a6d-ac53-9d688a9b9b0a",
   "metadata": {},
   "outputs": [
    {
     "name": "stdout",
     "output_type": "stream",
     "text": [
      "True\n"
     ]
    }
   ],
   "source": [
    "print(1 != 2)"
   ]
  },
  {
   "cell_type": "code",
   "execution_count": 45,
   "id": "33663fab-b24c-4f49-b78b-4334da8c2a70",
   "metadata": {},
   "outputs": [
    {
     "name": "stdout",
     "output_type": "stream",
     "text": [
      "False\n",
      "False\n"
     ]
    }
   ],
   "source": [
    "gt = 1 > 2\n",
    "gte = 1 >= 2\n",
    "print(gt)\n",
    "print(gte)"
   ]
  },
  {
   "cell_type": "code",
   "execution_count": 46,
   "id": "8cd56c3c-5846-4d3f-9431-d6c9b463b5b2",
   "metadata": {},
   "outputs": [
    {
     "name": "stdout",
     "output_type": "stream",
     "text": [
      "True\n",
      "True\n"
     ]
    }
   ],
   "source": [
    "print(1 < 2)\n",
    "print(1 <= 2)"
   ]
  },
  {
   "cell_type": "markdown",
   "id": "b4c7e4e2-ef39-457f-ac3e-5e97d873cbe7",
   "metadata": {},
   "source": [
    "### Logical Operators\n",
    "\n",
    "Logical operators are used to combine conditional statements."
   ]
  },
  {
   "cell_type": "code",
   "execution_count": 47,
   "id": "4919d477-9236-49f6-a339-b02629c5ec8b",
   "metadata": {},
   "outputs": [
    {
     "name": "stdout",
     "output_type": "stream",
     "text": [
      "True\n",
      "True\n",
      "True\n"
     ]
    }
   ],
   "source": [
    "print(1 < 2 and 2 < 3)\n",
    "print(1 > 2 or 2 < 3)\n",
    "print(not(1>2))"
   ]
  },
  {
   "cell_type": "markdown",
   "id": "5caebec4-e4a0-441f-9cd1-73e3ed3e5ac5",
   "metadata": {},
   "source": [
    "## Custom Functions"
   ]
  },
  {
   "cell_type": "code",
   "execution_count": 48,
   "id": "ca1a71ca-8d37-4ac7-91e6-c2e008bf6224",
   "metadata": {},
   "outputs": [],
   "source": [
    "def hello_world():\n",
    "    print(\"hello world\")"
   ]
  },
  {
   "cell_type": "code",
   "execution_count": 49,
   "id": "1670e079-7f59-4620-bfa7-a1ef13b7988c",
   "metadata": {},
   "outputs": [
    {
     "name": "stdout",
     "output_type": "stream",
     "text": [
      "hello world\n"
     ]
    }
   ],
   "source": [
    "hello_world()"
   ]
  },
  {
   "cell_type": "code",
   "execution_count": 50,
   "id": "f115d4a4-3d28-4f92-a9da-4657c14fa78d",
   "metadata": {},
   "outputs": [],
   "source": [
    "def bigger(a, b):\n",
    "    # this will return whichever value a or b is larger\n",
    "    if a > b:\n",
    "        result = a\n",
    "    else:\n",
    "        result = b\n",
    "    return result"
   ]
  },
  {
   "cell_type": "code",
   "execution_count": 51,
   "id": "feffda44-c725-414f-8a1c-256eb25df22b",
   "metadata": {},
   "outputs": [
    {
     "data": {
      "text/plain": [
       "5"
      ]
     },
     "execution_count": 51,
     "metadata": {},
     "output_type": "execute_result"
    }
   ],
   "source": [
    "bigger(3,5)"
   ]
  },
  {
   "cell_type": "markdown",
   "id": "c537741d-7664-4b95-9c4e-3ed1cd83d0cc",
   "metadata": {},
   "source": [
    "## Classes\n",
    "\n",
    "Classes allow users to create a new type of object that allows for added functionality.  When a class is created, a new type of object is created that can be used to create instances of that object."
   ]
  },
  {
   "cell_type": "code",
   "execution_count": 52,
   "id": "cc4890ae-ba38-433c-a5cc-5cbd1c2fd854",
   "metadata": {},
   "outputs": [],
   "source": [
    "class Agent:\n",
    "    \n",
    "    # NOTE: the self keyword is telling python to access or use attributes for a specific instance of the class.\n",
    "    def __init__(self, u, e):\n",
    "        self.u = u\n",
    "        self.e = e\n",
    "        \n",
    "    def get_utility(self, x,y):\n",
    "        if self.u == \"linear\":\n",
    "            result = x + y\n",
    "        if self.u == 'leontief':\n",
    "            result = min(x,y)\n",
    "        return result\n",
    "        \n",
    "            "
   ]
  },
  {
   "cell_type": "code",
   "execution_count": 53,
   "id": "d6953853-6d6c-4c80-af37-bfad4018eac1",
   "metadata": {},
   "outputs": [
    {
     "name": "stdout",
     "output_type": "stream",
     "text": [
      "linear 10\n"
     ]
    }
   ],
   "source": [
    "agent1 = Agent('linear', 10)\n",
    "print(agent1.u, agent1.e)"
   ]
  },
  {
   "cell_type": "code",
   "execution_count": 54,
   "id": "40681a51-d26c-4909-bd42-286e612ed07c",
   "metadata": {},
   "outputs": [
    {
     "name": "stdout",
     "output_type": "stream",
     "text": [
      "leontief 20\n"
     ]
    }
   ],
   "source": [
    "agent2 = Agent('leontief', 20)\n",
    "print(agent2.u, agent2.e)"
   ]
  },
  {
   "cell_type": "code",
   "execution_count": 55,
   "id": "d70eb8f0-2574-4334-ba48-e50c98395acd",
   "metadata": {},
   "outputs": [
    {
     "data": {
      "text/plain": [
       "15"
      ]
     },
     "execution_count": 55,
     "metadata": {},
     "output_type": "execute_result"
    }
   ],
   "source": [
    "agent1.get_utility(5,10)"
   ]
  },
  {
   "cell_type": "code",
   "execution_count": 56,
   "id": "28070de7-a0d1-441b-a1f5-fb1a6caee61d",
   "metadata": {},
   "outputs": [
    {
     "data": {
      "text/plain": [
       "5"
      ]
     },
     "execution_count": 56,
     "metadata": {},
     "output_type": "execute_result"
    }
   ],
   "source": [
    "agent2.get_utility(5,10)"
   ]
  },
  {
   "cell_type": "markdown",
   "id": "60dcfec6-b115-41a0-9073-feb208db3814",
   "metadata": {},
   "source": [
    "## Objects in Python\n",
    "\n",
    "We've already seen a few different types of Python objects along with some of their methods."
   ]
  },
  {
   "cell_type": "code",
   "execution_count": 57,
   "id": "5a2beba2-007a-41c2-93ed-806f582f77ef",
   "metadata": {},
   "outputs": [
    {
     "name": "stdout",
     "output_type": "stream",
     "text": [
      "[1, 2, 3, 4]\n"
     ]
    }
   ],
   "source": [
    "alist = [1,2,3]\n",
    "alist.append(4)\n",
    "print(alist)"
   ]
  },
  {
   "cell_type": "markdown",
   "id": "2ddb7871-4581-441c-a1d3-4de36aa81980",
   "metadata": {},
   "source": [
    "### Strings\n",
    "\n",
    "Strings are objects in Python with useful built-in methods (functions)."
   ]
  },
  {
   "cell_type": "code",
   "execution_count": 58,
   "id": "45439c74-d120-4399-a7b4-b54a83deb9c5",
   "metadata": {},
   "outputs": [
    {
     "name": "stdout",
     "output_type": "stream",
     "text": [
      "hello world\n"
     ]
    }
   ],
   "source": [
    "aString = \"hello$world\"\n",
    "aString = aString.replace('$', ' ')\n",
    "print(aString)"
   ]
  },
  {
   "cell_type": "code",
   "execution_count": 59,
   "id": "fd431274-00b8-480a-989a-64e30059d98d",
   "metadata": {},
   "outputs": [
    {
     "name": "stdout",
     "output_type": "stream",
     "text": [
      "Hello World\n"
     ]
    }
   ],
   "source": [
    "aString = aString.title()\n",
    "print(aString)"
   ]
  },
  {
   "cell_type": "code",
   "execution_count": 60,
   "id": "065dc974-5596-435c-a834-ed82f01b7340",
   "metadata": {},
   "outputs": [],
   "source": [
    "hello, world = aString.split(' ')"
   ]
  },
  {
   "cell_type": "code",
   "execution_count": 61,
   "id": "52fac7a8-72bc-4f5f-8a0e-8423eb548c5e",
   "metadata": {},
   "outputs": [],
   "source": [
    "hello = hello + ','"
   ]
  },
  {
   "cell_type": "code",
   "execution_count": 62,
   "id": "b351ae3b-445c-4f37-a9b5-74f35d2464af",
   "metadata": {},
   "outputs": [
    {
     "name": "stdout",
     "output_type": "stream",
     "text": [
      "Hello, World!\n"
     ]
    }
   ],
   "source": [
    "aString = hello + ' ' + world + \"!\"\n",
    "print(aString)"
   ]
  }
 ],
 "metadata": {
  "kernelspec": {
   "display_name": "Python 3",
   "language": "python",
   "name": "python3"
  },
  "language_info": {
   "codemirror_mode": {
    "name": "ipython",
    "version": 3
   },
   "file_extension": ".py",
   "mimetype": "text/x-python",
   "name": "python",
   "nbconvert_exporter": "python",
   "pygments_lexer": "ipython3",
   "version": "3.8.11"
  }
 },
 "nbformat": 4,
 "nbformat_minor": 5
}
