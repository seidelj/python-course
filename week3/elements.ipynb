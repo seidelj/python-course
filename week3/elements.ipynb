{
 "cells": [
  {
   "cell_type": "markdown",
   "id": "11a9ead2-edea-4c2f-ac36-22ed409f093e",
   "metadata": {
    "tags": []
   },
   "source": [
    "# The \"elements\" of Python\n",
    "\n",
    "* Variables\n",
    "\n",
    "* Datatypes\n",
    "    * Numbers\n",
    "    * String\n",
    "    * List\n",
    "    * Dictionary \n",
    "    \n",
    "* Modules\n",
    "    * math\n",
    "    * os\n",
    "    \n",
    "* Python as a calculator\n",
    "\n",
    "* Strings, Numbers, and Operators\n",
    "\n",
    "* Lists\n",
    "    * splicing\n",
    "    * combining\n",
    "    * indexing\n",
    "    * list methods\n",
    "    * looping\n",
    "    * comprehensions (skip)\n",
    "    \n",
    "* Dictionaries\n",
    "    * creating\n",
    "    * del\n",
    "    * looping\n",
    "    \n",
    "* if/elif/else\n",
    "\n",
    "* Custom function/methods\n",
    "\n",
    "* Classes\n"
   ]
  },
  {
   "cell_type": "markdown",
   "id": "d22df4af-7736-47c2-89e7-0ebe3fd9523c",
   "metadata": {},
   "source": [
    "## Variables and Datatypes\n",
    "\n",
    "In this section I cover defining variables and data types in pyton"
   ]
  },
  {
   "cell_type": "code",
   "execution_count": 8,
   "id": "45f4541a-f18e-4580-a75b-e6a699d1b72f",
   "metadata": {},
   "outputs": [],
   "source": [
    "anInt = 2\n",
    "aFloat = 5.0\n",
    "aString = \"hello\"\n",
    "aList = [1,2,3]\n",
    "aDict = {'joe': 5, 'wally': 2}"
   ]
  },
  {
   "cell_type": "code",
   "execution_count": 6,
   "id": "fb248955-5378-4971-9694-2a5aa5ebce59",
   "metadata": {},
   "outputs": [
    {
     "name": "stdout",
     "output_type": "stream",
     "text": [
      "2\n"
     ]
    },
    {
     "data": {
      "text/plain": [
       "float"
      ]
     },
     "execution_count": 6,
     "metadata": {},
     "output_type": "execute_result"
    }
   ],
   "source": [
    "print(anInt)\n",
    "type(anInt)\n",
    "type(aFloat)"
   ]
  },
  {
   "cell_type": "code",
   "execution_count": 10,
   "id": "902d0810-8e78-41ef-845f-f88791f5c79e",
   "metadata": {},
   "outputs": [
    {
     "name": "stdout",
     "output_type": "stream",
     "text": [
      "1 2\n"
     ]
    }
   ],
   "source": [
    "anint = 1\n",
    "print(anint, anInt)"
   ]
  },
  {
   "cell_type": "markdown",
   "id": "acd1603c-8e39-4bb7-ba9b-bcabf29b4b67",
   "metadata": {},
   "source": [
    "## Modules\n",
    "\n",
    "Here we use two built-in Python modules, os and math"
   ]
  },
  {
   "cell_type": "code",
   "execution_count": 11,
   "id": "006d55b0-ccd4-4d81-abee-25d0d7e6c0c8",
   "metadata": {},
   "outputs": [],
   "source": [
    "import os\n",
    "import math\n",
    "import math, os"
   ]
  },
  {
   "cell_type": "code",
   "execution_count": 12,
   "id": "a18511da-cfb7-41b0-87eb-82dc9a48bbe2",
   "metadata": {},
   "outputs": [
    {
     "data": {
      "text/plain": [
       "'/Users/joseph/python-course/week3'"
      ]
     },
     "execution_count": 12,
     "metadata": {},
     "output_type": "execute_result"
    }
   ],
   "source": [
    "# get the current working directy\n",
    "os.getcwd()"
   ]
  },
  {
   "cell_type": "code",
   "execution_count": 13,
   "id": "1496d7d7-5f5e-4bc5-9e7c-d9c18760a454",
   "metadata": {},
   "outputs": [],
   "source": [
    "import math"
   ]
  },
  {
   "cell_type": "code",
   "execution_count": 15,
   "id": "cb9ef1ef-189e-4e33-b19f-6a7ec62f037e",
   "metadata": {},
   "outputs": [
    {
     "data": {
      "text/plain": [
       "3.141592653589793"
      ]
     },
     "execution_count": 15,
     "metadata": {},
     "output_type": "execute_result"
    }
   ],
   "source": [
    "math.pi"
   ]
  },
  {
   "cell_type": "markdown",
   "id": "2f9ec27b-e23e-4310-a825-0b264e1cf22c",
   "metadata": {},
   "source": [
    "## Python as a calculator"
   ]
  },
  {
   "cell_type": "code",
   "execution_count": 16,
   "id": "338c352c-34ae-42c9-81b5-e9f30f1cd9c1",
   "metadata": {},
   "outputs": [
    {
     "data": {
      "text/plain": [
       "4"
      ]
     },
     "execution_count": 16,
     "metadata": {},
     "output_type": "execute_result"
    }
   ],
   "source": [
    "2+2"
   ]
  },
  {
   "cell_type": "code",
   "execution_count": 17,
   "id": "fcf4b0da-4789-4567-91c6-02050106d561",
   "metadata": {},
   "outputs": [
    {
     "data": {
      "text/plain": [
       "60"
      ]
     },
     "execution_count": 17,
     "metadata": {},
     "output_type": "execute_result"
    }
   ],
   "source": [
    "83-23"
   ]
  },
  {
   "cell_type": "code",
   "execution_count": 18,
   "id": "dcb1c017-e5cd-44cc-80cf-7ca1a3649d18",
   "metadata": {},
   "outputs": [
    {
     "name": "stdout",
     "output_type": "stream",
     "text": [
      "9\n"
     ]
    }
   ],
   "source": [
    "product = 3*3\n",
    "print(product)"
   ]
  },
  {
   "cell_type": "code",
   "execution_count": 19,
   "id": "fa269ce4-47ee-4a71-9816-fcdce3d72b3f",
   "metadata": {},
   "outputs": [
    {
     "name": "stdout",
     "output_type": "stream",
     "text": [
      "2.0\n"
     ]
    }
   ],
   "source": [
    "a = 50\n",
    "b = 25\n",
    "print(a/b)"
   ]
  },
  {
   "cell_type": "code",
   "execution_count": 21,
   "id": "715139ef-c1b2-4d2c-8222-bbb25c3920b8",
   "metadata": {},
   "outputs": [
    {
     "name": "stdout",
     "output_type": "stream",
     "text": [
      "2500\n"
     ]
    }
   ],
   "source": [
    "aSquared = a**2\n",
    "print(aSquared)"
   ]
  },
  {
   "cell_type": "markdown",
   "id": "aba0ba8a-2003-4008-b4a4-28c439e3a54d",
   "metadata": {},
   "source": [
    "## Strings, numbers and operators"
   ]
  },
  {
   "cell_type": "code",
   "execution_count": 22,
   "id": "7c909316-b45c-402e-a4a4-177ad29dcbf8",
   "metadata": {},
   "outputs": [],
   "source": [
    "a = 2\n",
    "b = 5\n",
    "c = \"hello\"\n",
    "d = \"world\""
   ]
  },
  {
   "cell_type": "code",
   "execution_count": 23,
   "id": "be67d3f4-4c69-4f1c-99d4-147c91692c32",
   "metadata": {},
   "outputs": [
    {
     "name": "stdout",
     "output_type": "stream",
     "text": [
      "7\n"
     ]
    }
   ],
   "source": [
    "print(a + b)"
   ]
  },
  {
   "cell_type": "code",
   "execution_count": 24,
   "id": "6ecf4cb8-5da2-4e40-8d4f-e8f85000597a",
   "metadata": {},
   "outputs": [
    {
     "ename": "TypeError",
     "evalue": "unsupported operand type(s) for +: 'int' and 'str'",
     "output_type": "error",
     "traceback": [
      "\u001b[0;31m---------------------------------------------------------------------------\u001b[0m",
      "\u001b[0;31mTypeError\u001b[0m                                 Traceback (most recent call last)",
      "\u001b[0;32m<ipython-input-24-2616b5956feb>\u001b[0m in \u001b[0;36m<module>\u001b[0;34m\u001b[0m\n\u001b[0;32m----> 1\u001b[0;31m \u001b[0mprint\u001b[0m\u001b[0;34m(\u001b[0m\u001b[0ma\u001b[0m \u001b[0;34m+\u001b[0m \u001b[0mc\u001b[0m\u001b[0;34m)\u001b[0m\u001b[0;34m\u001b[0m\u001b[0;34m\u001b[0m\u001b[0m\n\u001b[0m",
      "\u001b[0;31mTypeError\u001b[0m: unsupported operand type(s) for +: 'int' and 'str'"
     ]
    }
   ],
   "source": [
    "print(a + c)"
   ]
  },
  {
   "cell_type": "code",
   "execution_count": 25,
   "id": "7073f794-4435-47e0-b0bd-2e4e9a780ab0",
   "metadata": {},
   "outputs": [
    {
     "name": "stdout",
     "output_type": "stream",
     "text": [
      "hellohello\n"
     ]
    }
   ],
   "source": [
    "print(a * c)"
   ]
  },
  {
   "cell_type": "code",
   "execution_count": 26,
   "id": "6cd0da0b-8e37-4977-95e8-37d25b636d61",
   "metadata": {},
   "outputs": [
    {
     "ename": "TypeError",
     "evalue": "unsupported operand type(s) for /: 'int' and 'str'",
     "output_type": "error",
     "traceback": [
      "\u001b[0;31m---------------------------------------------------------------------------\u001b[0m",
      "\u001b[0;31mTypeError\u001b[0m                                 Traceback (most recent call last)",
      "\u001b[0;32m<ipython-input-26-ba50ed5de10f>\u001b[0m in \u001b[0;36m<module>\u001b[0;34m\u001b[0m\n\u001b[0;32m----> 1\u001b[0;31m \u001b[0mprint\u001b[0m\u001b[0;34m(\u001b[0m\u001b[0mb\u001b[0m\u001b[0;34m/\u001b[0m\u001b[0mc\u001b[0m\u001b[0;34m)\u001b[0m\u001b[0;34m\u001b[0m\u001b[0;34m\u001b[0m\u001b[0m\n\u001b[0m",
      "\u001b[0;31mTypeError\u001b[0m: unsupported operand type(s) for /: 'int' and 'str'"
     ]
    }
   ],
   "source": [
    "print(b/c)"
   ]
  },
  {
   "cell_type": "code",
   "execution_count": 27,
   "id": "c60e15fa-5048-442a-9a32-df90312823ab",
   "metadata": {},
   "outputs": [
    {
     "name": "stdout",
     "output_type": "stream",
     "text": [
      "helloworld\n"
     ]
    }
   ],
   "source": [
    "print(c + d)"
   ]
  },
  {
   "cell_type": "markdown",
   "id": "ff2f6e69-43d6-4adb-bc42-7c6773b93ce7",
   "metadata": {},
   "source": [
    "## Lists\n",
    "\n",
    "A list is an ordered set of objects"
   ]
  },
  {
   "cell_type": "code",
   "execution_count": 28,
   "id": "b545cc40-69c5-4d38-b38e-abf81fe463ad",
   "metadata": {},
   "outputs": [],
   "source": [
    "ints = [1,2,3,4]\n",
    "reals = [1,2,3.5,4]\n",
    "strings = ['h', 'e', 'l', 'l', 'o']\n",
    "combo = [1, 'h', 2, 'e', 3.5]"
   ]
  },
  {
   "cell_type": "code",
   "execution_count": 29,
   "id": "baa361c2-2fc7-47d2-8055-759128c8707d",
   "metadata": {},
   "outputs": [
    {
     "name": "stdout",
     "output_type": "stream",
     "text": [
      "1 2 3 4\n"
     ]
    }
   ],
   "source": [
    "# lists are indexed at 0\n",
    "print(ints[0], ints[1], ints[2], ints[3])"
   ]
  },
  {
   "cell_type": "code",
   "execution_count": 30,
   "id": "f077e7ee-18cc-40c4-8de5-3325af5a9b6d",
   "metadata": {},
   "outputs": [
    {
     "data": {
      "text/plain": [
       "4"
      ]
     },
     "execution_count": 30,
     "metadata": {},
     "output_type": "execute_result"
    }
   ],
   "source": [
    "ints[3]"
   ]
  },
  {
   "cell_type": "code",
   "execution_count": 31,
   "id": "86b4f0e2-df66-4ef4-9469-ea1bc83987bd",
   "metadata": {},
   "outputs": [
    {
     "data": {
      "text/plain": [
       "4"
      ]
     },
     "execution_count": 31,
     "metadata": {},
     "output_type": "execute_result"
    }
   ],
   "source": [
    "len(ints)"
   ]
  },
  {
   "cell_type": "code",
   "execution_count": 32,
   "id": "0eabecf5-afda-480e-92ca-0634e386524c",
   "metadata": {},
   "outputs": [
    {
     "data": {
      "text/plain": [
       "4"
      ]
     },
     "execution_count": 32,
     "metadata": {},
     "output_type": "execute_result"
    }
   ],
   "source": [
    "ints[len(ints)-1]"
   ]
  },
  {
   "cell_type": "code",
   "execution_count": 33,
   "id": "6285f5af-1672-419d-b516-6fe5b50e235e",
   "metadata": {},
   "outputs": [
    {
     "data": {
      "text/plain": [
       "4"
      ]
     },
     "execution_count": 33,
     "metadata": {},
     "output_type": "execute_result"
    }
   ],
   "source": [
    "ints[-1]"
   ]
  },
  {
   "cell_type": "code",
   "execution_count": 34,
   "id": "b5f30fb9-96a0-40a6-9b5c-2c836e75ee83",
   "metadata": {},
   "outputs": [
    {
     "data": {
      "text/plain": [
       "[1, 2]"
      ]
     },
     "execution_count": 34,
     "metadata": {},
     "output_type": "execute_result"
    }
   ],
   "source": [
    "ints[:2]"
   ]
  },
  {
   "cell_type": "code",
   "execution_count": 35,
   "id": "9b5f7fb2-ef7a-47b5-8421-2fb50f57cfe8",
   "metadata": {},
   "outputs": [
    {
     "data": {
      "text/plain": [
       "[2, 3]"
      ]
     },
     "execution_count": 35,
     "metadata": {},
     "output_type": "execute_result"
    }
   ],
   "source": [
    "ints[1:3]"
   ]
  },
  {
   "cell_type": "code",
   "execution_count": 40,
   "id": "571d71e2-d03e-4760-b799-1646b14a428c",
   "metadata": {},
   "outputs": [
    {
     "data": {
      "text/plain": [
       "[3, 4]"
      ]
     },
     "execution_count": 40,
     "metadata": {},
     "output_type": "execute_result"
    }
   ],
   "source": [
    "ints[-3:]\n",
    "ints[2:]"
   ]
  },
  {
   "cell_type": "code",
   "execution_count": 41,
   "id": "1820f8e9-f47e-475f-9934-5d989030a1a9",
   "metadata": {},
   "outputs": [
    {
     "name": "stdout",
     "output_type": "stream",
     "text": [
      "[1, 2, 3, 4, 5]\n"
     ]
    }
   ],
   "source": [
    "ints.append(5)\n",
    "print(ints)"
   ]
  },
  {
   "cell_type": "code",
   "execution_count": 42,
   "id": "72d57a8b-f3c3-4a42-8ed0-a202c55a1f31",
   "metadata": {},
   "outputs": [
    {
     "name": "stdout",
     "output_type": "stream",
     "text": [
      "5 [1, 2, 3, 4]\n"
     ]
    }
   ],
   "source": [
    "lastItem = ints.pop()\n",
    "print(lastItem, ints)"
   ]
  },
  {
   "cell_type": "code",
   "execution_count": 43,
   "id": "88c30fee-9593-437b-a0ca-713afbaf86ed",
   "metadata": {},
   "outputs": [
    {
     "name": "stdout",
     "output_type": "stream",
     "text": [
      "[1, 2, 3, 4, 1, 2, 3.5, 4]\n"
     ]
    }
   ],
   "source": [
    "print(ints + reals)"
   ]
  },
  {
   "cell_type": "code",
   "execution_count": 45,
   "id": "3c4c1bea-754f-4f14-97fa-70b22d6b434f",
   "metadata": {},
   "outputs": [
    {
     "name": "stdout",
     "output_type": "stream",
     "text": [
      "1\n",
      "2\n",
      "3\n",
      "4\n",
      "[1, 2, 3, 4]\n"
     ]
    }
   ],
   "source": [
    "for i in ints:\n",
    "    print(i)\n",
    "\n",
    "print(ints)"
   ]
  },
  {
   "cell_type": "code",
   "execution_count": null,
   "id": "22568fd6-639b-466f-9179-3959b3109d1d",
   "metadata": {},
   "outputs": [],
   "source": []
  }
 ],
 "metadata": {
  "kernelspec": {
   "display_name": "Python 3",
   "language": "python",
   "name": "python3"
  },
  "language_info": {
   "codemirror_mode": {
    "name": "ipython",
    "version": 3
   },
   "file_extension": ".py",
   "mimetype": "text/x-python",
   "name": "python",
   "nbconvert_exporter": "python",
   "pygments_lexer": "ipython3",
   "version": "3.8.11"
  }
 },
 "nbformat": 4,
 "nbformat_minor": 5
}
