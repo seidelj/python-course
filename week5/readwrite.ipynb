{
 "cells": [
  {
   "cell_type": "code",
   "execution_count": 1,
   "id": "4363435f-441f-4ee2-b314-e094ab7480ff",
   "metadata": {},
   "outputs": [],
   "source": [
    "import os, csv\n",
    "import random"
   ]
  },
  {
   "cell_type": "code",
   "execution_count": 2,
   "id": "7b3e1286-da25-4d61-90e3-656683532875",
   "metadata": {},
   "outputs": [
    {
     "name": "stdout",
     "output_type": "stream",
     "text": [
      "/Users/joseph/python-course/week5\n"
     ]
    }
   ],
   "source": [
    "print(os.getcwd())"
   ]
  },
  {
   "cell_type": "code",
   "execution_count": 3,
   "id": "ceaea82d-c7e7-4f6a-be08-757042540a6b",
   "metadata": {},
   "outputs": [
    {
     "name": "stdout",
     "output_type": "stream",
     "text": [
      "/Users/joseph/python-course/week5/roster.csv\n"
     ]
    }
   ],
   "source": [
    "path1 = os.getcwd()\n",
    "path2 = 'roster.csv'\n",
    "csvFilePath = os.path.join(path1, path2)\n",
    "print(csvFilePath)"
   ]
  },
  {
   "cell_type": "markdown",
   "id": "185ae684-fd0d-4ca2-829f-0d5377716995",
   "metadata": {},
   "source": [
    "### Reading csv files"
   ]
  },
  {
   "cell_type": "code",
   "execution_count": 4,
   "id": "3ac8fa90-d7d0-429c-8634-e3bd8acf8193",
   "metadata": {},
   "outputs": [
    {
     "name": "stdout",
     "output_type": "stream",
     "text": [
      "[{'name': 'Joe'}, {'name': 'Jihuan'}, {'name': 'Ali'}, {'name': 'Frances'}, {'name': 'Daniela V'}, {'name': 'Mostafa'}, {'name': 'Daniela P'}, {'name': 'Cesar'}, {'name': 'Jarrod'}, {'name': 'Austin'}, {'name': 'Jack'}, {'name': 'Ala'}, {'name': 'Sergii'}, {'name': 'Miles'}, {'name': 'Hyeyun'}, {'name': 'Volodymyr'}, {'name': 'Yijia'}, {'name': 'Hsin-Yun'}, {'name': 'Renata'}, {'name': 'Max'}, {'name': 'Joshua'}, {'name': 'David'}]\n"
     ]
    }
   ],
   "source": [
    "# If newline='' is not specified, newlines embedded inside quoted \n",
    "# fields will not be interpreted correctly, and on platforms that \n",
    "# use \\r\\n linendings on write an extra \\r will be added. \n",
    "# It should always be safe to specify newline='', since the csv module \n",
    "# does its own (universal) newline handling.\n",
    "\n",
    "# try encoding='utf-8-sig' or 'utf-8' if you have additional characters in your header\n",
    "\n",
    "with open(csvFilePath, mode='r', newline='', encoding='utf-8-sig') as csvFile:\n",
    "    ## reader is an iterator object which will iterate over the lines of the csv file\n",
    "    reader = csv.reader(csvFile, delimiter=',')\n",
    "    header = next(reader) \n",
    "    roster = []\n",
    "    for row in reader:\n",
    "        temp = {'name': row[0]}\n",
    "        roster.append(temp)\n",
    "    print(roster)\n",
    "        \n",
    "    "
   ]
  },
  {
   "cell_type": "code",
   "execution_count": 5,
   "id": "64ad9b0e-0b0a-436f-9d40-dbf9a8e8d192",
   "metadata": {},
   "outputs": [
    {
     "name": "stdout",
     "output_type": "stream",
     "text": [
      "['name']\n"
     ]
    }
   ],
   "source": [
    "print(header)"
   ]
  },
  {
   "cell_type": "markdown",
   "id": "96514f2e-35fa-4e53-9b65-d859568f0894",
   "metadata": {},
   "source": [
    "### Modifying the Data"
   ]
  },
  {
   "cell_type": "code",
   "execution_count": 6,
   "id": "b0579849-5ccc-49a6-b2bd-b84d2ae644d8",
   "metadata": {},
   "outputs": [
    {
     "name": "stdout",
     "output_type": "stream",
     "text": [
      "[{'name': 'Joe'}, {'name': 'Jihuan'}, {'name': 'Ali'}, {'name': 'Frances'}, {'name': 'Daniela V'}, {'name': 'Mostafa'}, {'name': 'Daniela P'}, {'name': 'Cesar'}, {'name': 'Jarrod'}, {'name': 'Austin'}, {'name': 'Jack'}, {'name': 'Ala'}, {'name': 'Sergii'}, {'name': 'Miles'}, {'name': 'Hyeyun'}, {'name': 'Volodymyr'}, {'name': 'Yijia'}, {'name': 'Hsin-Yun'}, {'name': 'Renata'}, {'name': 'Max'}, {'name': 'Joshua'}, {'name': 'David'}, {'name': 'Wally'}]\n"
     ]
    }
   ],
   "source": [
    "## Add someone who is missing\n",
    "roster.append({'name': 'Wally'})\n",
    "print(roster)"
   ]
  },
  {
   "cell_type": "markdown",
   "id": "0582f4e3-0554-46bc-a37e-d68e22dfbe79",
   "metadata": {},
   "source": [
    "Assign grades"
   ]
  },
  {
   "cell_type": "code",
   "execution_count": 7,
   "id": "0230efdd-18eb-4cb8-9d35-93eca04c13d9",
   "metadata": {},
   "outputs": [],
   "source": [
    "import random\n",
    "random.seed(1)"
   ]
  },
  {
   "cell_type": "code",
   "execution_count": 8,
   "id": "24817c74-83ce-46e8-91ac-2ac15e1364ec",
   "metadata": {},
   "outputs": [
    {
     "name": "stdout",
     "output_type": "stream",
     "text": [
      "{'name': 'Joe', 'grade': 17}\n",
      "{'name': 'Jihuan', 'grade': 72}\n",
      "{'name': 'Ali', 'grade': 97}\n",
      "{'name': 'Frances', 'grade': 8}\n",
      "{'name': 'Daniela V', 'grade': 32}\n",
      "{'name': 'Mostafa', 'grade': 15}\n",
      "{'name': 'Daniela P', 'grade': 63}\n",
      "{'name': 'Cesar', 'grade': 97}\n",
      "{'name': 'Jarrod', 'grade': 57}\n",
      "{'name': 'Austin', 'grade': 60}\n",
      "{'name': 'Jack', 'grade': 83}\n",
      "{'name': 'Ala', 'grade': 48}\n",
      "{'name': 'Sergii', 'grade': 100}\n",
      "{'name': 'Miles', 'grade': 26}\n",
      "{'name': 'Hyeyun', 'grade': 12}\n",
      "{'name': 'Volodymyr', 'grade': 62}\n",
      "{'name': 'Yijia', 'grade': 3}\n",
      "{'name': 'Hsin-Yun', 'grade': 49}\n",
      "{'name': 'Renata', 'grade': 55}\n",
      "{'name': 'Max', 'grade': 77}\n",
      "{'name': 'Joshua', 'grade': 97}\n",
      "{'name': 'David', 'grade': 98}\n",
      "{'name': 'Wally', 'grade': 0}\n"
     ]
    }
   ],
   "source": [
    "for student in roster:\n",
    "    student['grade'] = random.randint(0,100)\n",
    "    print(student)\n",
    "    "
   ]
  },
  {
   "cell_type": "code",
   "execution_count": 9,
   "id": "40dd7bd6-b575-46c0-b6a3-b9fa7e71efbb",
   "metadata": {},
   "outputs": [],
   "source": [
    "def compute_mean(values):\n",
    "    n = len(values)\n",
    "    result = sum(values)/n\n",
    "    return result"
   ]
  },
  {
   "cell_type": "code",
   "execution_count": 10,
   "id": "4759cfbb-821a-425c-a005-b7718d98c161",
   "metadata": {},
   "outputs": [
    {
     "name": "stdout",
     "output_type": "stream",
     "text": [
      "[17, 72, 97, 8, 32, 15, 63, 97, 57, 60, 83, 48, 100, 26, 12, 62, 3, 49, 55, 77, 97, 98, 0]\n"
     ]
    }
   ],
   "source": [
    "grades = []\n",
    "for student in roster:\n",
    "    grade = student['grade']\n",
    "    grades.append(grade)\n",
    "\n",
    "print(grades)"
   ]
  },
  {
   "cell_type": "code",
   "execution_count": 11,
   "id": "3ced123c-e150-4646-a33c-a172c1184ee0",
   "metadata": {},
   "outputs": [
    {
     "name": "stdout",
     "output_type": "stream",
     "text": [
      "53.391304347826086\n"
     ]
    }
   ],
   "source": [
    "mean = compute_mean(grades)\n",
    "print(mean)"
   ]
  },
  {
   "cell_type": "markdown",
   "id": "970f392a-96db-43f3-9e3b-458fb2451bdc",
   "metadata": {},
   "source": [
    "Edit a specific row/student"
   ]
  },
  {
   "cell_type": "code",
   "execution_count": 12,
   "id": "5d194deb-e506-4db8-bc75-f375a3a35055",
   "metadata": {},
   "outputs": [
    {
     "name": "stdout",
     "output_type": "stream",
     "text": [
      "[{'name': 'Joe', 'grade': 17}, {'name': 'Jihuan', 'grade': 72}, {'name': 'Ali', 'grade': 97}, {'name': 'Frances', 'grade': 8}, {'name': 'Daniela V', 'grade': 32}, {'name': 'Mostafa', 'grade': 15}, {'name': 'Daniela P', 'grade': 100}, {'name': 'Cesar', 'grade': 97}, {'name': 'Jarrod', 'grade': 57}, {'name': 'Austin', 'grade': 60}, {'name': 'Jack', 'grade': 83}, {'name': 'Ala', 'grade': 48}, {'name': 'Sergii', 'grade': 100}, {'name': 'Miles', 'grade': 26}, {'name': 'Hyeyun', 'grade': 12}, {'name': 'Volodymyr', 'grade': 62}, {'name': 'Yijia', 'grade': 3}, {'name': 'Hsin-Yun', 'grade': 49}, {'name': 'Renata', 'grade': 55}, {'name': 'Max', 'grade': 77}, {'name': 'Joshua', 'grade': 97}, {'name': 'David', 'grade': 98}, {'name': 'Wally', 'grade': 0}]\n"
     ]
    }
   ],
   "source": [
    "for student in roster:\n",
    "    if student['name'] == 'Daniela P':\n",
    "        student['grade'] = 100\n",
    "        \n",
    "print(roster)"
   ]
  },
  {
   "cell_type": "code",
   "execution_count": 13,
   "id": "fbd843f8-98d5-416a-b5e5-17b1d2b771d7",
   "metadata": {},
   "outputs": [
    {
     "name": "stdout",
     "output_type": "stream",
     "text": [
      "{'name': 'Joe', 'grade': 57}\n",
      "{'name': 'Jihuan', 'grade': 72}\n",
      "{'name': 'Ali', 'grade': 97}\n",
      "{'name': 'Frances', 'grade': 48}\n",
      "{'name': 'Daniela V', 'grade': 72}\n",
      "{'name': 'Mostafa', 'grade': 55}\n",
      "{'name': 'Daniela P', 'grade': 100}\n",
      "{'name': 'Cesar', 'grade': 97}\n",
      "{'name': 'Jarrod', 'grade': 57}\n",
      "{'name': 'Austin', 'grade': 60}\n",
      "{'name': 'Jack', 'grade': 83}\n",
      "{'name': 'Ala', 'grade': 88}\n",
      "{'name': 'Sergii', 'grade': 100}\n",
      "{'name': 'Miles', 'grade': 66}\n",
      "{'name': 'Hyeyun', 'grade': 52}\n",
      "{'name': 'Volodymyr', 'grade': 62}\n",
      "{'name': 'Yijia', 'grade': 43}\n",
      "{'name': 'Hsin-Yun', 'grade': 89}\n",
      "{'name': 'Renata', 'grade': 55}\n",
      "{'name': 'Max', 'grade': 77}\n",
      "{'name': 'Joshua', 'grade': 97}\n",
      "{'name': 'David', 'grade': 98}\n",
      "{'name': 'Wally', 'grade': 40}\n"
     ]
    }
   ],
   "source": [
    "for student in roster:\n",
    "    if student['grade'] < 50:\n",
    "        student['grade'] = student['grade'] + 40\n",
    "    print(student)"
   ]
  },
  {
   "cell_type": "code",
   "execution_count": 14,
   "id": "3b102317-3f9c-4f35-af92-b9a41db57756",
   "metadata": {},
   "outputs": [
    {
     "name": "stdout",
     "output_type": "stream",
     "text": [
      "[57, 72, 97, 48, 72, 55, 100, 97, 57, 60, 83, 88, 100, 66, 52, 62, 43, 89, 55, 77, 97, 98, 40]\n"
     ]
    }
   ],
   "source": [
    "# list comprehensions\n",
    "grades = [student['grade'] for student in roster]\n",
    "print(grades)"
   ]
  },
  {
   "cell_type": "code",
   "execution_count": 15,
   "id": "6f9db881-1168-4b27-84c7-7fd5c9b5ce9e",
   "metadata": {},
   "outputs": [
    {
     "name": "stdout",
     "output_type": "stream",
     "text": [
      "72.3913043478261\n"
     ]
    }
   ],
   "source": [
    "average = compute_mean(grades)\n",
    "print(average)"
   ]
  },
  {
   "cell_type": "code",
   "execution_count": null,
   "id": "954629a7-bf82-4ed0-9b40-bea2c375cb11",
   "metadata": {},
   "outputs": [],
   "source": []
  }
 ],
 "metadata": {
  "kernelspec": {
   "display_name": "Python 3",
   "language": "python",
   "name": "python3"
  },
  "language_info": {
   "codemirror_mode": {
    "name": "ipython",
    "version": 3
   },
   "file_extension": ".py",
   "mimetype": "text/x-python",
   "name": "python",
   "nbconvert_exporter": "python",
   "pygments_lexer": "ipython3",
   "version": "3.8.11"
  }
 },
 "nbformat": 4,
 "nbformat_minor": 5
}
